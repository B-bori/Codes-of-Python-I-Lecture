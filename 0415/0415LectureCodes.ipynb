{
  "nbformat": 4,
  "nbformat_minor": 0,
  "metadata": {
    "colab": {
      "name": "0415LectureCodes.ipynb",
      "provenance": [],
      "collapsed_sections": []
    },
    "kernelspec": {
      "name": "python3",
      "display_name": "Python 3"
    }
  },
  "cells": [
    {
      "cell_type": "code",
      "metadata": {
        "id": "C164PpM7HPNH",
        "colab_type": "code",
        "colab": {}
      },
      "source": [
        "#Today objectives : String (Data Type) Handling, Tuples (Special Data Type - we will use it many many many...)\n"
      ],
      "execution_count": 0,
      "outputs": []
    },
    {
      "cell_type": "code",
      "metadata": {
        "id": "WKV4q2XxICge",
        "colab_type": "code",
        "colab": {
          "base_uri": "https://localhost:8080/",
          "height": 35
        },
        "outputId": "645028bc-c26b-4ef3-b97c-f1135ef280b5"
      },
      "source": [
        "\"Michael Jackson\" #String, double quotation \"\" or single quotation are the same"
      ],
      "execution_count": 1,
      "outputs": [
        {
          "output_type": "execute_result",
          "data": {
            "text/plain": [
              "'Michael Jackson'"
            ]
          },
          "metadata": {
            "tags": []
          },
          "execution_count": 1
        }
      ]
    },
    {
      "cell_type": "code",
      "metadata": {
        "id": "ASIYAfFxJqp1",
        "colab_type": "code",
        "colab": {
          "base_uri": "https://localhost:8080/",
          "height": 35
        },
        "outputId": "918bfcb7-b882-4626-d07a-95fcf4a0475d"
      },
      "source": [
        "'1 2 3 4 5 6'"
      ],
      "execution_count": 2,
      "outputs": [
        {
          "output_type": "execute_result",
          "data": {
            "text/plain": [
              "'1 2 3 4 5 6'"
            ]
          },
          "metadata": {
            "tags": []
          },
          "execution_count": 2
        }
      ]
    },
    {
      "cell_type": "code",
      "metadata": {
        "id": "fcGN5TVPJ24b",
        "colab_type": "code",
        "colab": {
          "base_uri": "https://localhost:8080/",
          "height": 35
        },
        "outputId": "a49a47a3-7c66-44f8-cd86-4782289dc79a"
      },
      "source": [
        "type('1 2 3 4 5 6')"
      ],
      "execution_count": 3,
      "outputs": [
        {
          "output_type": "execute_result",
          "data": {
            "text/plain": [
              "str"
            ]
          },
          "metadata": {
            "tags": []
          },
          "execution_count": 3
        }
      ]
    },
    {
      "cell_type": "code",
      "metadata": {
        "id": "x5a1ts3wJ6Fx",
        "colab_type": "code",
        "colab": {}
      },
      "source": [
        "#str means the data type is string"
      ],
      "execution_count": 0,
      "outputs": []
    },
    {
      "cell_type": "code",
      "metadata": {
        "id": "cc-DEXnTKJif",
        "colab_type": "code",
        "colab": {}
      },
      "source": [
        "Name = \"Michael Jackson\"\n",
        "# NAme is a variable to contain the string \"Michael JAckson\""
      ],
      "execution_count": 0,
      "outputs": []
    },
    {
      "cell_type": "code",
      "metadata": {
        "id": "1ajBki_tKRGW",
        "colab_type": "code",
        "colab": {
          "base_uri": "https://localhost:8080/",
          "height": 35
        },
        "outputId": "7f77c28f-921c-48c1-c948-6aa170b94d1f"
      },
      "source": [
        "print(Name) #print function calls for (and look for where the variable \"Name\" is)"
      ],
      "execution_count": 5,
      "outputs": [
        {
          "output_type": "stream",
          "text": [
            "Michael Jackson\n"
          ],
          "name": "stdout"
        }
      ]
    },
    {
      "cell_type": "code",
      "metadata": {
        "id": "O31HnNs6KSpX",
        "colab_type": "code",
        "colab": {}
      },
      "source": [
        "#Question is how we can access to a particular letter in the variable Name\" \n",
        "\n",
        "# INDEXING...."
      ],
      "execution_count": 0,
      "outputs": []
    },
    {
      "cell_type": "code",
      "metadata": {
        "id": "AOOAtmcnKrtL",
        "colab_type": "code",
        "colab": {
          "base_uri": "https://localhost:8080/",
          "height": 35
        },
        "outputId": "ba21fe22-1b1f-4c85-894d-0068bb707487"
      },
      "source": [
        "print(Name[0])"
      ],
      "execution_count": 6,
      "outputs": [
        {
          "output_type": "stream",
          "text": [
            "M\n"
          ],
          "name": "stdout"
        }
      ]
    },
    {
      "cell_type": "code",
      "metadata": {
        "id": "tSN7x8YLL4yk",
        "colab_type": "code",
        "colab": {
          "base_uri": "https://localhost:8080/",
          "height": 35
        },
        "outputId": "2b23baa0-12b8-4122-b9af-8e77af7c6cdf"
      },
      "source": [
        "print(Name[14])"
      ],
      "execution_count": 7,
      "outputs": [
        {
          "output_type": "stream",
          "text": [
            "n\n"
          ],
          "name": "stdout"
        }
      ]
    },
    {
      "cell_type": "code",
      "metadata": {
        "id": "yr8xdkkgL_WO",
        "colab_type": "code",
        "colab": {
          "base_uri": "https://localhost:8080/",
          "height": 165
        },
        "outputId": "3a594409-3b65-47b0-c6f4-0a1e236722c7"
      },
      "source": [
        "print(Name(size[Name])) #this one doesn't work..."
      ],
      "execution_count": 9,
      "outputs": [
        {
          "output_type": "error",
          "ename": "NameError",
          "evalue": "ignored",
          "traceback": [
            "\u001b[0;31m---------------------------------------------------------------------------\u001b[0m",
            "\u001b[0;31mNameError\u001b[0m                                 Traceback (most recent call last)",
            "\u001b[0;32m<ipython-input-9-c2dfec506f40>\u001b[0m in \u001b[0;36m<module>\u001b[0;34m()\u001b[0m\n\u001b[0;32m----> 1\u001b[0;31m \u001b[0mprint\u001b[0m\u001b[0;34m(\u001b[0m\u001b[0mName\u001b[0m\u001b[0;34m(\u001b[0m\u001b[0msize\u001b[0m\u001b[0;34m[\u001b[0m\u001b[0mName\u001b[0m\u001b[0;34m]\u001b[0m\u001b[0;34m)\u001b[0m\u001b[0;34m)\u001b[0m\u001b[0;34m\u001b[0m\u001b[0;34m\u001b[0m\u001b[0m\n\u001b[0m",
            "\u001b[0;31mNameError\u001b[0m: name 'size' is not defined"
          ]
        }
      ]
    },
    {
      "cell_type": "code",
      "metadata": {
        "id": "EUQyQSE8MFK-",
        "colab_type": "code",
        "colab": {
          "base_uri": "https://localhost:8080/",
          "height": 35
        },
        "outputId": "9bb047cc-71b3-4382-e7ba-4a5ecab111bc"
      },
      "source": [
        "print(Name[-1]) # we will use this format quite often...."
      ],
      "execution_count": 10,
      "outputs": [
        {
          "output_type": "stream",
          "text": [
            "n\n"
          ],
          "name": "stdout"
        }
      ]
    },
    {
      "cell_type": "code",
      "metadata": {
        "id": "kRBKH9JxMT91",
        "colab_type": "code",
        "colab": {
          "base_uri": "https://localhost:8080/",
          "height": 35
        },
        "outputId": "8de7883d-f1e3-487d-bc55-64067c03c72d"
      },
      "source": [
        "print(Name[-15]) #for the indexing we have to use [] :대괄호.."
      ],
      "execution_count": 11,
      "outputs": [
        {
          "output_type": "stream",
          "text": [
            "M\n"
          ],
          "name": "stdout"
        }
      ]
    },
    {
      "cell_type": "code",
      "metadata": {
        "id": "20w0XfCKNFK8",
        "colab_type": "code",
        "colab": {
          "base_uri": "https://localhost:8080/",
          "height": 35
        },
        "outputId": "96eb7ad2-7b0b-4ec4-e35e-be5e2a6c304d"
      },
      "source": [
        "print(Name[0])"
      ],
      "execution_count": 12,
      "outputs": [
        {
          "output_type": "stream",
          "text": [
            "M\n"
          ],
          "name": "stdout"
        }
      ]
    },
    {
      "cell_type": "code",
      "metadata": {
        "id": "EIjzcBs0NHVW",
        "colab_type": "code",
        "colab": {}
      },
      "source": [
        "print(Name(size[Name])) #this one doesn't work..."
      ],
      "execution_count": 0,
      "outputs": []
    },
    {
      "cell_type": "code",
      "metadata": {
        "id": "T7JkUc8uOft0",
        "colab_type": "code",
        "colab": {
          "base_uri": "https://localhost:8080/",
          "height": 35
        },
        "outputId": "f2a7d5ec-1883-4375-8f2b-2bac283145f5"
      },
      "source": [
        "len(Name)"
      ],
      "execution_count": 13,
      "outputs": [
        {
          "output_type": "execute_result",
          "data": {
            "text/plain": [
              "15"
            ]
          },
          "metadata": {
            "tags": []
          },
          "execution_count": 13
        }
      ]
    },
    {
      "cell_type": "code",
      "metadata": {
        "id": "quODPullOieS",
        "colab_type": "code",
        "colab": {
          "base_uri": "https://localhost:8080/",
          "height": 165
        },
        "outputId": "8e839672-374b-4489-de51-af5c2f7db010"
      },
      "source": [
        "print(Name(len[Name])) #this one doesn't work... = print(Name[15])"
      ],
      "execution_count": 14,
      "outputs": [
        {
          "output_type": "error",
          "ename": "TypeError",
          "evalue": "ignored",
          "traceback": [
            "\u001b[0;31m---------------------------------------------------------------------------\u001b[0m",
            "\u001b[0;31mTypeError\u001b[0m                                 Traceback (most recent call last)",
            "\u001b[0;32m<ipython-input-14-7cad0285b724>\u001b[0m in \u001b[0;36m<module>\u001b[0;34m()\u001b[0m\n\u001b[0;32m----> 1\u001b[0;31m \u001b[0mprint\u001b[0m\u001b[0;34m(\u001b[0m\u001b[0mName\u001b[0m\u001b[0;34m(\u001b[0m\u001b[0mlen\u001b[0m\u001b[0;34m[\u001b[0m\u001b[0mName\u001b[0m\u001b[0;34m]\u001b[0m\u001b[0;34m)\u001b[0m\u001b[0;34m)\u001b[0m \u001b[0;31m#this one doesn't work... = print(Name[15])\u001b[0m\u001b[0;34m\u001b[0m\u001b[0;34m\u001b[0m\u001b[0m\n\u001b[0m",
            "\u001b[0;31mTypeError\u001b[0m: 'builtin_function_or_method' object is not subscriptable"
          ]
        }
      ]
    },
    {
      "cell_type": "code",
      "metadata": {
        "id": "HUZzvcFyOw6i",
        "colab_type": "code",
        "colab": {
          "base_uri": "https://localhost:8080/",
          "height": 35
        },
        "outputId": "4d2194be-41be-47f4-e15c-e808d6ee5936"
      },
      "source": [
        "length = len(Name) - 1 #len[Name] = 15 - 1 =14 # len is a function so it should use parenthesis () 소괄호, [] bracket 대괄호 means indexing...\n",
        "print(Name[length]) # print(Name[14])"
      ],
      "execution_count": 18,
      "outputs": [
        {
          "output_type": "stream",
          "text": [
            "n\n"
          ],
          "name": "stdout"
        }
      ]
    },
    {
      "cell_type": "code",
      "metadata": {
        "id": "pX8PV4SvO2kM",
        "colab_type": "code",
        "colab": {}
      },
      "source": [
        "#Following topic of slicing!!!!\n",
        "#slicing means to retrieve some part of the array..(today we will use the strings in order to slice some parts of the strings)"
      ],
      "execution_count": 0,
      "outputs": []
    },
    {
      "cell_type": "code",
      "metadata": {
        "id": "gH8xnMVJP12J",
        "colab_type": "code",
        "colab": {
          "base_uri": "https://localhost:8080/",
          "height": 35
        },
        "outputId": "0c101b0d-b534-4cbd-f096-1efa10d402a3"
      },
      "source": [
        "Name[0]"
      ],
      "execution_count": 19,
      "outputs": [
        {
          "output_type": "execute_result",
          "data": {
            "text/plain": [
              "'M'"
            ]
          },
          "metadata": {
            "tags": []
          },
          "execution_count": 19
        }
      ]
    },
    {
      "cell_type": "code",
      "metadata": {
        "id": "UIheaUozQNZs",
        "colab_type": "code",
        "colab": {
          "base_uri": "https://localhost:8080/",
          "height": 35
        },
        "outputId": "42b5e644-7926-4181-eed9-b03911a7a6d4"
      },
      "source": [
        "Name[1]"
      ],
      "execution_count": 20,
      "outputs": [
        {
          "output_type": "execute_result",
          "data": {
            "text/plain": [
              "'i'"
            ]
          },
          "metadata": {
            "tags": []
          },
          "execution_count": 20
        }
      ]
    },
    {
      "cell_type": "code",
      "metadata": {
        "id": "FsW-AEI9QPBK",
        "colab_type": "code",
        "colab": {
          "base_uri": "https://localhost:8080/",
          "height": 35
        },
        "outputId": "6e747824-24a9-4663-b759-e00ee6ba4997"
      },
      "source": [
        "Name[0]+Name[1]+Name[2]+Name[3] #it works however, stupiDDDD"
      ],
      "execution_count": 21,
      "outputs": [
        {
          "output_type": "execute_result",
          "data": {
            "text/plain": [
              "'Mich'"
            ]
          },
          "metadata": {
            "tags": []
          },
          "execution_count": 21
        }
      ]
    },
    {
      "cell_type": "code",
      "metadata": {
        "id": "aF7aY7K3QTrS",
        "colab_type": "code",
        "colab": {
          "base_uri": "https://localhost:8080/",
          "height": 35
        },
        "outputId": "87462eeb-66b9-49a5-c0a5-18ef470b1fd0"
      },
      "source": [
        "Name[0:4] #first index means the starting point, the second index is up to the fourth  , not the index numer. in between we need COLON (:)\n",
        "\n",
        "# From Name[0] to Name[3] \n",
        "\n",
        "#the main benefit of this confusing indexing of the last postion comes from that that number \n",
        "#lets automatically indicate the starting point of the next postion.  \n",
        "# The programmer autotomatically can call the last '4' or '12' (in the below example) to start their work. \n"
      ],
      "execution_count": 22,
      "outputs": [
        {
          "output_type": "execute_result",
          "data": {
            "text/plain": [
              "'Mich'"
            ]
          },
          "metadata": {
            "tags": []
          },
          "execution_count": 22
        }
      ]
    },
    {
      "cell_type": "code",
      "metadata": {
        "id": "jBenn4K8QsTE",
        "colab_type": "code",
        "colab": {
          "base_uri": "https://localhost:8080/",
          "height": 35
        },
        "outputId": "5fb65dde-59f9-4afc-ff72-0dbafb7c879b"
      },
      "source": [
        "Name[8:12] #Starting at 8th Name[8], and the upto 12 --> 11 in terms of indexing system Name[11]"
      ],
      "execution_count": 23,
      "outputs": [
        {
          "output_type": "execute_result",
          "data": {
            "text/plain": [
              "'Jack'"
            ]
          },
          "metadata": {
            "tags": []
          },
          "execution_count": 23
        }
      ]
    },
    {
      "cell_type": "code",
      "metadata": {
        "id": "Kqlht3LYQ7X4",
        "colab_type": "code",
        "colab": {
          "base_uri": "https://localhost:8080/",
          "height": 35
        },
        "outputId": "b41b62ee-99a5-4668-cf2f-e37234c34f21"
      },
      "source": [
        "Name[-4:-6]"
      ],
      "execution_count": 26,
      "outputs": [
        {
          "output_type": "execute_result",
          "data": {
            "text/plain": [
              "''"
            ]
          },
          "metadata": {
            "tags": []
          },
          "execution_count": 26
        }
      ]
    },
    {
      "cell_type": "code",
      "metadata": {
        "id": "9AuyG6QIRT0I",
        "colab_type": "code",
        "colab": {
          "base_uri": "https://localhost:8080/",
          "height": 35
        },
        "outputId": "72b7e097-036c-46ea-dfae-1279d11c7bd5"
      },
      "source": [
        "Name[-4:-9] #Do not use the negative indexing system in Slicing.."
      ],
      "execution_count": 27,
      "outputs": [
        {
          "output_type": "execute_result",
          "data": {
            "text/plain": [
              "''"
            ]
          },
          "metadata": {
            "tags": []
          },
          "execution_count": 27
        }
      ]
    },
    {
      "cell_type": "code",
      "metadata": {
        "id": "K_SndZ6WSwWg",
        "colab_type": "code",
        "colab": {
          "base_uri": "https://localhost:8080/",
          "height": 35
        },
        "outputId": "a4cc4d36-cb10-4896-c393-b78c27857e85"
      },
      "source": [
        "#A kind of slicing, we call this 'Stride' \n",
        "#'Michael Jackson\" \n",
        "#I want to print out \"McalJcsn\"\n",
        "Name[:] # without any indexing number, with just ':', that says the whole total"
      ],
      "execution_count": 28,
      "outputs": [
        {
          "output_type": "execute_result",
          "data": {
            "text/plain": [
              "'Michael Jackson'"
            ]
          },
          "metadata": {
            "tags": []
          },
          "execution_count": 28
        }
      ]
    },
    {
      "cell_type": "code",
      "metadata": {
        "id": "lb9UKmQQToLG",
        "colab_type": "code",
        "colab": {
          "base_uri": "https://localhost:8080/",
          "height": 35
        },
        "outputId": "13336b04-f215-478a-ddec-c2e785d91ecf"
      },
      "source": [
        "Name[::2] #every second letters from \"Michael Jackson\" use \"::\" double colons"
      ],
      "execution_count": 29,
      "outputs": [
        {
          "output_type": "execute_result",
          "data": {
            "text/plain": [
              "'McalJcsn'"
            ]
          },
          "metadata": {
            "tags": []
          },
          "execution_count": 29
        }
      ]
    },
    {
      "cell_type": "code",
      "metadata": {
        "id": "7yQp0JSYUAjE",
        "colab_type": "code",
        "colab": {
          "base_uri": "https://localhost:8080/",
          "height": 35
        },
        "outputId": "a3a2f3ef-9504-4ae6-e18e-6afd661409a4"
      },
      "source": [
        "Name[::3] #::2 means from the whol total, we want to indicate every second item..if so...."
      ],
      "execution_count": 30,
      "outputs": [
        {
          "output_type": "execute_result",
          "data": {
            "text/plain": [
              "'Mhlas'"
            ]
          },
          "metadata": {
            "tags": []
          },
          "execution_count": 30
        }
      ]
    },
    {
      "cell_type": "code",
      "metadata": {
        "id": "ZMqZJG4xUKa_",
        "colab_type": "code",
        "colab": {
          "base_uri": "https://localhost:8080/",
          "height": 35
        },
        "outputId": "f41d2a2c-43ba-4c66-f4d1-ee7feae56331"
      },
      "source": [
        "#if so, what I want to do is, every second letter from slicing or range..\n",
        "Name[0:4:2] #'Michael Jackson\" first two indexs are for range or slicing, and the last index is stride..."
      ],
      "execution_count": 31,
      "outputs": [
        {
          "output_type": "execute_result",
          "data": {
            "text/plain": [
              "'Mc'"
            ]
          },
          "metadata": {
            "tags": []
          },
          "execution_count": 31
        }
      ]
    },
    {
      "cell_type": "code",
      "metadata": {
        "id": "SoDij3oIUm3P",
        "colab_type": "code",
        "colab": {}
      },
      "source": [
        "#An outstanding examples in Machine learning \n",
        "# we will have many solution alternatives (10 = max, 3 = mean, 5 = mode, 6 = median)\n",
        "#[10, 3, 5, 6] --> stored in your array (kind of a string at now) \n",
        "#[0:4:2] --> I will use only Max and Mode values to programme\n",
        "#[Family size, Number of Children, Numer of Boy, Number of  Girl] --> [4, 3, 2, 1] [7, 4, 0, 4]\n",
        "#new variable = Var[0:4:2] #only this one declar that Family size and number of Boy is the information that we want to use. \n",
        "#new variable = Var[0] --> Family Size, Var[2] --> Number of Boy\n",
        "#using this new variable, without deleting or correcting any origianl data, you can process the information we are interested in. "
      ],
      "execution_count": 0,
      "outputs": []
    },
    {
      "cell_type": "code",
      "metadata": {
        "id": "MmnybxkmXVrl",
        "colab_type": "code",
        "colab": {
          "base_uri": "https://localhost:8080/",
          "height": 35
        },
        "outputId": "e240ecd1-01d0-417e-cb39-c3df490d0cc5"
      },
      "source": [
        "#OPERATION with Strings...\n",
        "Name"
      ],
      "execution_count": 32,
      "outputs": [
        {
          "output_type": "execute_result",
          "data": {
            "text/plain": [
              "'Michael Jackson'"
            ]
          },
          "metadata": {
            "tags": []
          },
          "execution_count": 32
        }
      ]
    },
    {
      "cell_type": "code",
      "metadata": {
        "id": "4zmuJW9vXZUw",
        "colab_type": "code",
        "colab": {}
      },
      "source": [
        "Statement = \"is a best singer in the world\""
      ],
      "execution_count": 0,
      "outputs": []
    },
    {
      "cell_type": "code",
      "metadata": {
        "id": "HWQXiHaGXgfT",
        "colab_type": "code",
        "colab": {
          "base_uri": "https://localhost:8080/",
          "height": 35
        },
        "outputId": "fc26b6df-615f-40d0-8b3f-0621fc1051c7"
      },
      "source": [
        "Statement"
      ],
      "execution_count": 34,
      "outputs": [
        {
          "output_type": "execute_result",
          "data": {
            "text/plain": [
              "'is a best singer in the world'"
            ]
          },
          "metadata": {
            "tags": []
          },
          "execution_count": 34
        }
      ]
    },
    {
      "cell_type": "code",
      "metadata": {
        "id": "es0WkyzHXi8Y",
        "colab_type": "code",
        "colab": {}
      },
      "source": [
        "Opinion = Name + Statement #addition is working..."
      ],
      "execution_count": 0,
      "outputs": []
    },
    {
      "cell_type": "code",
      "metadata": {
        "id": "PNvf-XdIXpC8",
        "colab_type": "code",
        "colab": {
          "base_uri": "https://localhost:8080/",
          "height": 35
        },
        "outputId": "0b84c199-efed-4538-ca3b-1845c9963b8a"
      },
      "source": [
        "Opinion"
      ],
      "execution_count": 52,
      "outputs": [
        {
          "output_type": "execute_result",
          "data": {
            "text/plain": [
              "'Michael Jacksonis a best singer in the world'"
            ]
          },
          "metadata": {
            "tags": []
          },
          "execution_count": 52
        }
      ]
    },
    {
      "cell_type": "code",
      "metadata": {
        "id": "sNW0vQPqXzpC",
        "colab_type": "code",
        "colab": {}
      },
      "source": [
        "Opinion = 4* Opinion  # Multiplication with constant (positive integer) is working to replicate the Name three times "
      ],
      "execution_count": 0,
      "outputs": []
    },
    {
      "cell_type": "code",
      "metadata": {
        "id": "-Ltv1iWsX4Eq",
        "colab_type": "code",
        "colab": {
          "base_uri": "https://localhost:8080/",
          "height": 55
        },
        "outputId": "feb357a3-8fbf-4344-fa46-30e3641b6c0b"
      },
      "source": [
        "Opinion #this is overrided from the opinion used above"
      ],
      "execution_count": 54,
      "outputs": [
        {
          "output_type": "execute_result",
          "data": {
            "text/plain": [
              "'Michael Jacksonis a best singer in the worldMichael Jacksonis a best singer in the worldMichael Jacksonis a best singer in the worldMichael Jacksonis a best singer in the world'"
            ]
          },
          "metadata": {
            "tags": []
          },
          "execution_count": 54
        }
      ]
    },
    {
      "cell_type": "code",
      "metadata": {
        "id": "Lw96m0vUX61-",
        "colab_type": "code",
        "colab": {}
      },
      "source": [
        "#Scope of variable will be learnt in LEcture 5 \n",
        "#Scope of Python is much flexbile in Python rather than other languages. "
      ],
      "execution_count": 0,
      "outputs": []
    },
    {
      "cell_type": "code",
      "metadata": {
        "id": "O_VD9wRfaH2J",
        "colab_type": "code",
        "colab": {}
      },
      "source": [
        "#Escape codes...? --> Tab, New line things.. \n"
      ],
      "execution_count": 0,
      "outputs": []
    },
    {
      "cell_type": "code",
      "metadata": {
        "id": "Zu4fifL6aPQa",
        "colab_type": "code",
        "colab": {
          "base_uri": "https://localhost:8080/",
          "height": 52
        },
        "outputId": "0ff5294c-6ffa-4b38-8937-b0a2d4c97bb8"
      },
      "source": [
        "#New line starting\n",
        "print(\"Micheal Jackson \\n is the best\") # \"\\n\" means new line"
      ],
      "execution_count": 56,
      "outputs": [
        {
          "output_type": "stream",
          "text": [
            "Micheal Jackson \n",
            " is the best\n"
          ],
          "name": "stdout"
        }
      ]
    },
    {
      "cell_type": "code",
      "metadata": {
        "id": "lR7wPX1naUnM",
        "colab_type": "code",
        "colab": {
          "base_uri": "https://localhost:8080/",
          "height": 35
        },
        "outputId": "55f0c73f-af2d-4800-ee3a-a5b2ee4738eb"
      },
      "source": [
        "#Tab, a kind of indentation\n",
        "print(\"Micheal Jackson \\t is the best\") "
      ],
      "execution_count": 57,
      "outputs": [
        {
          "output_type": "stream",
          "text": [
            "Micheal Jackson \t is the best\n"
          ],
          "name": "stdout"
        }
      ]
    },
    {
      "cell_type": "code",
      "metadata": {
        "id": "HwWYKS33an5j",
        "colab_type": "code",
        "colab": {
          "base_uri": "https://localhost:8080/",
          "height": 35
        },
        "outputId": "79b55b1f-051d-49cf-f732-662242abc298"
      },
      "source": [
        "#how to display '\\?\n",
        "print(\"Micheal Jackson \\\\ is the best\") #this one \"\\\\\" is recognised as an Esacpe code - backslash by Python"
      ],
      "execution_count": 59,
      "outputs": [
        {
          "output_type": "stream",
          "text": [
            "Micheal Jackson \\ is the best\n"
          ],
          "name": "stdout"
        }
      ]
    },
    {
      "cell_type": "code",
      "metadata": {
        "id": "hPX0OAKDa1Uz",
        "colab_type": "code",
        "colab": {
          "base_uri": "https://localhost:8080/",
          "height": 35
        },
        "outputId": "f4d4be6f-e39c-40ed-b537-1edbbfff6dcd"
      },
      "source": [
        "print(\"Micheal Jackson \\ is the best\") #this one \"\\\" is recognised as not an Esacpe code by Python. It is just a letter in the string.. "
      ],
      "execution_count": 60,
      "outputs": [
        {
          "output_type": "stream",
          "text": [
            "Micheal Jackson \\ is the best\n"
          ],
          "name": "stdout"
        }
      ]
    },
    {
      "cell_type": "code",
      "metadata": {
        "id": "qnxofYY9a_sE",
        "colab_type": "code",
        "colab": {
          "base_uri": "https://localhost:8080/",
          "height": 35
        },
        "outputId": "e0a6cba3-e533-401e-bf6d-d2949f006223"
      },
      "source": [
        "print(\"Micheal Jackson \\\\\\ is the best\")"
      ],
      "execution_count": 61,
      "outputs": [
        {
          "output_type": "stream",
          "text": [
            "Micheal Jackson \\\\ is the best\n"
          ],
          "name": "stdout"
        }
      ]
    },
    {
      "cell_type": "code",
      "metadata": {
        "id": "OCNK5XmmbkZJ",
        "colab_type": "code",
        "colab": {
          "base_uri": "https://localhost:8080/",
          "height": 35
        },
        "outputId": "e467f585-06b8-4f25-e7bb-ae0f666b54e4"
      },
      "source": [
        "print(\"Micheal Jackson \\\\\\\\ is the best\")"
      ],
      "execution_count": 62,
      "outputs": [
        {
          "output_type": "stream",
          "text": [
            "Micheal Jackson \\\\ is the best\n"
          ],
          "name": "stdout"
        }
      ]
    },
    {
      "cell_type": "code",
      "metadata": {
        "id": "dCcgC17MbnLO",
        "colab_type": "code",
        "colab": {
          "base_uri": "https://localhost:8080/",
          "height": 35
        },
        "outputId": "daa81db1-4d75-40bb-9a26-6ecb97843a53"
      },
      "source": [
        "print(\"Micheal Jackson \\\\\\\\\\ is the best\")"
      ],
      "execution_count": 63,
      "outputs": [
        {
          "output_type": "stream",
          "text": [
            "Micheal Jackson \\\\\\ is the best\n"
          ],
          "name": "stdout"
        }
      ]
    },
    {
      "cell_type": "code",
      "metadata": {
        "id": "7IF4QtQHbrjD",
        "colab_type": "code",
        "colab": {
          "base_uri": "https://localhost:8080/",
          "height": 35
        },
        "outputId": "f57499ce-9c52-4135-e28b-a3f2313074df"
      },
      "source": [
        "print(\"Micheal Jackson \\\\\\\\\\\\ is the best\")"
      ],
      "execution_count": 64,
      "outputs": [
        {
          "output_type": "stream",
          "text": [
            "Micheal Jackson \\\\\\ is the best\n"
          ],
          "name": "stdout"
        }
      ]
    },
    {
      "cell_type": "code",
      "metadata": {
        "id": "cTZWfKR0bvvq",
        "colab_type": "code",
        "colab": {}
      },
      "source": [
        "#'\\n', '\\t' there are other escape codes, you might have a look from the resources that I have mentioned in the Syllabus. "
      ],
      "execution_count": 0,
      "outputs": []
    },
    {
      "cell_type": "code",
      "metadata": {
        "id": "258a62Z1cBCu",
        "colab_type": "code",
        "colab": {}
      },
      "source": [
        "#Some frequent String operations +, 3*\n"
      ],
      "execution_count": 0,
      "outputs": []
    },
    {
      "cell_type": "code",
      "metadata": {
        "id": "_e-Ru1fOcL8i",
        "colab_type": "code",
        "colab": {
          "base_uri": "https://localhost:8080/",
          "height": 35
        },
        "outputId": "b4dae90d-3db8-4615-a579-d3cca9ef5f1c"
      },
      "source": [
        "print(\"My favorate singer is: \\t\", Name.upper()) #Name = STring Array, every array has an innate (built-in) functions that Python provide"
      ],
      "execution_count": 66,
      "outputs": [
        {
          "output_type": "stream",
          "text": [
            "My favorate singer is: \t MICHAEL JACKSON\n"
          ],
          "name": "stdout"
        }
      ]
    },
    {
      "cell_type": "code",
      "metadata": {
        "id": "4hps-ZffcWcO",
        "colab_type": "code",
        "colab": {
          "base_uri": "https://localhost:8080/",
          "height": 165
        },
        "outputId": "9d932842-0e8e-4aca-bd11-53c6a8807e65"
      },
      "source": [
        "Name.count(some paramter needed..) #to understand how to use the bulit-in functions are mostly on your hands. More experiences will \n",
        "#make you see the needs of these functions. "
      ],
      "execution_count": 67,
      "outputs": [
        {
          "output_type": "error",
          "ename": "TypeError",
          "evalue": "ignored",
          "traceback": [
            "\u001b[0;31m---------------------------------------------------------------------------\u001b[0m",
            "\u001b[0;31mTypeError\u001b[0m                                 Traceback (most recent call last)",
            "\u001b[0;32m<ipython-input-67-7e0e03c2183b>\u001b[0m in \u001b[0;36m<module>\u001b[0;34m()\u001b[0m\n\u001b[0;32m----> 1\u001b[0;31m \u001b[0mName\u001b[0m\u001b[0;34m.\u001b[0m\u001b[0mcount\u001b[0m\u001b[0;34m(\u001b[0m\u001b[0;34m)\u001b[0m\u001b[0;34m\u001b[0m\u001b[0;34m\u001b[0m\u001b[0m\n\u001b[0m",
            "\u001b[0;31mTypeError\u001b[0m: count() takes at least 1 argument (0 given)"
          ]
        }
      ]
    },
    {
      "cell_type": "code",
      "metadata": {
        "id": "pH72LopzdChY",
        "colab_type": "code",
        "colab": {}
      },
      "source": [
        "Name_lower_case = Name.lower()"
      ],
      "execution_count": 0,
      "outputs": []
    },
    {
      "cell_type": "code",
      "metadata": {
        "id": "rw4WmExxd8HI",
        "colab_type": "code",
        "colab": {
          "base_uri": "https://localhost:8080/",
          "height": 35
        },
        "outputId": "b88a027f-dcef-4b32-ff4c-13bfb141e48a"
      },
      "source": [
        "Name"
      ],
      "execution_count": 73,
      "outputs": [
        {
          "output_type": "execute_result",
          "data": {
            "text/plain": [
              "'Michael Jackson'"
            ]
          },
          "metadata": {
            "tags": []
          },
          "execution_count": 73
        }
      ]
    },
    {
      "cell_type": "code",
      "metadata": {
        "id": "NWhQQqZEd990",
        "colab_type": "code",
        "colab": {
          "base_uri": "https://localhost:8080/",
          "height": 35
        },
        "outputId": "ba3c90a7-191c-4e83-e1c9-c80fd4823e92"
      },
      "source": [
        "Name_lower_case"
      ],
      "execution_count": 74,
      "outputs": [
        {
          "output_type": "execute_result",
          "data": {
            "text/plain": [
              "'michael jackson'"
            ]
          },
          "metadata": {
            "tags": []
          },
          "execution_count": 74
        }
      ]
    },
    {
      "cell_type": "code",
      "metadata": {
        "id": "avvBgiIadckT",
        "colab_type": "code",
        "colab": {
          "base_uri": "https://localhost:8080/",
          "height": 35
        },
        "outputId": "5de26f41-19da-4d09-d313-f0f93e4d8a08"
      },
      "source": [
        "Name.find('m') #Name is still \"Michael Jackson\""
      ],
      "execution_count": 75,
      "outputs": [
        {
          "output_type": "execute_result",
          "data": {
            "text/plain": [
              "-1"
            ]
          },
          "metadata": {
            "tags": []
          },
          "execution_count": 75
        }
      ]
    },
    {
      "cell_type": "code",
      "metadata": {
        "id": "_we0V1wldpF_",
        "colab_type": "code",
        "colab": {
          "base_uri": "https://localhost:8080/",
          "height": 35
        },
        "outputId": "a950330e-11c1-4ac9-fe81-91d32a2d34ec"
      },
      "source": [
        "Name_lower_case.find('a') #it returns the first index of the searched item. "
      ],
      "execution_count": 77,
      "outputs": [
        {
          "output_type": "execute_result",
          "data": {
            "text/plain": [
              "4"
            ]
          },
          "metadata": {
            "tags": []
          },
          "execution_count": 77
        }
      ]
    },
    {
      "cell_type": "code",
      "metadata": {
        "id": "_9aiCgrReFxy",
        "colab_type": "code",
        "colab": {
          "base_uri": "https://localhost:8080/",
          "height": 35
        },
        "outputId": "7180aed1-0abb-4c34-ef9b-12b745a307e4"
      },
      "source": [
        "Name.replace('Michael', 'Blake') \n",
        "#This one is your Assignment #1 You play around how to use some built-in functions with strings.. "
      ],
      "execution_count": 80,
      "outputs": [
        {
          "output_type": "execute_result",
          "data": {
            "text/plain": [
              "'Blake Jackson'"
            ]
          },
          "metadata": {
            "tags": []
          },
          "execution_count": 80
        }
      ]
    },
    {
      "cell_type": "code",
      "metadata": {
        "id": "mib92gVZfHK3",
        "colab_type": "code",
        "colab": {
          "base_uri": "https://localhost:8080/",
          "height": 35
        },
        "outputId": "819be702-5b4a-4751-d32d-1ec94f852098"
      },
      "source": [
        "Name"
      ],
      "execution_count": 79,
      "outputs": [
        {
          "output_type": "execute_result",
          "data": {
            "text/plain": [
              "'Michael Jackson'"
            ]
          },
          "metadata": {
            "tags": []
          },
          "execution_count": 79
        }
      ]
    },
    {
      "cell_type": "code",
      "metadata": {
        "id": "oqPwxJQPfJl-",
        "colab_type": "code",
        "colab": {}
      },
      "source": [
        "#Tuples..."
      ],
      "execution_count": 0,
      "outputs": []
    },
    {
      "cell_type": "code",
      "metadata": {
        "id": "_wwDFFQ0lJjY",
        "colab_type": "code",
        "colab": {}
      },
      "source": [
        "tupleX = (\"disco\", 10, 1.2)"
      ],
      "execution_count": 0,
      "outputs": []
    },
    {
      "cell_type": "code",
      "metadata": {
        "id": "C1USwqVplUzF",
        "colab_type": "code",
        "colab": {
          "base_uri": "https://localhost:8080/",
          "height": 35
        },
        "outputId": "c70d2193-a14a-4691-a481-943328bbf99e"
      },
      "source": [
        "print(tupleX)"
      ],
      "execution_count": 82,
      "outputs": [
        {
          "output_type": "stream",
          "text": [
            "('disco', 10, 1.2)\n"
          ],
          "name": "stdout"
        }
      ]
    },
    {
      "cell_type": "code",
      "metadata": {
        "id": "M0kKJhZslXDP",
        "colab_type": "code",
        "colab": {
          "base_uri": "https://localhost:8080/",
          "height": 35
        },
        "outputId": "64d2d151-94c5-41b0-ade9-677c852c59b9"
      },
      "source": [
        "type(tupleX)"
      ],
      "execution_count": 83,
      "outputs": [
        {
          "output_type": "execute_result",
          "data": {
            "text/plain": [
              "tuple"
            ]
          },
          "metadata": {
            "tags": []
          },
          "execution_count": 83
        }
      ]
    },
    {
      "cell_type": "code",
      "metadata": {
        "id": "FdcIZrx4lbe7",
        "colab_type": "code",
        "colab": {}
      },
      "source": [
        "tupleY = (\"R&B\", 12, 1.5)"
      ],
      "execution_count": 0,
      "outputs": []
    },
    {
      "cell_type": "code",
      "metadata": {
        "id": "UaaMj0iolpQ5",
        "colab_type": "code",
        "colab": {
          "base_uri": "https://localhost:8080/",
          "height": 35
        },
        "outputId": "f0ab4715-aa9f-4ea2-9ccb-a35af755885d"
      },
      "source": [
        "print(tupleY)"
      ],
      "execution_count": 85,
      "outputs": [
        {
          "output_type": "stream",
          "text": [
            "('R&B', 12, 1.5)\n"
          ],
          "name": "stdout"
        }
      ]
    },
    {
      "cell_type": "code",
      "metadata": {
        "id": "qI-sUEm1lr2B",
        "colab_type": "code",
        "colab": {}
      },
      "source": [
        "tuple_add = 3* tupleX + 2* tupleY # quite a handy!!!! "
      ],
      "execution_count": 0,
      "outputs": []
    },
    {
      "cell_type": "code",
      "metadata": {
        "id": "Hq1JCH5GlxPC",
        "colab_type": "code",
        "colab": {
          "base_uri": "https://localhost:8080/",
          "height": 35
        },
        "outputId": "11f39d3a-a881-4f78-bbf2-d1c8f7379edf"
      },
      "source": [
        "print(tuple_add)"
      ],
      "execution_count": 89,
      "outputs": [
        {
          "output_type": "stream",
          "text": [
            "('disco', 10, 1.2, 'disco', 10, 1.2, 'disco', 10, 1.2, 'R&B', 12, 1.5, 'R&B', 12, 1.5)\n"
          ],
          "name": "stdout"
        }
      ]
    },
    {
      "cell_type": "code",
      "metadata": {
        "id": "UchM5iRPlzDc",
        "colab_type": "code",
        "colab": {
          "base_uri": "https://localhost:8080/",
          "height": 35
        },
        "outputId": "4f5a3b07-4d4d-4d74-aad7-8ad156242f0a"
      },
      "source": [
        "tupleX[0]"
      ],
      "execution_count": 90,
      "outputs": [
        {
          "output_type": "execute_result",
          "data": {
            "text/plain": [
              "'disco'"
            ]
          },
          "metadata": {
            "tags": []
          },
          "execution_count": 90
        }
      ]
    },
    {
      "cell_type": "code",
      "metadata": {
        "id": "Mb2lKvCwm_TR",
        "colab_type": "code",
        "colab": {
          "base_uri": "https://localhost:8080/",
          "height": 35
        },
        "outputId": "fbe7e931-52e3-4560-d78b-740b9c4de580"
      },
      "source": [
        "tupleX[1]"
      ],
      "execution_count": 91,
      "outputs": [
        {
          "output_type": "execute_result",
          "data": {
            "text/plain": [
              "10"
            ]
          },
          "metadata": {
            "tags": []
          },
          "execution_count": 91
        }
      ]
    },
    {
      "cell_type": "code",
      "metadata": {
        "id": "Ax4j4KannB5T",
        "colab_type": "code",
        "colab": {
          "base_uri": "https://localhost:8080/",
          "height": 35
        },
        "outputId": "099f069f-7d1b-4167-eb9a-dd985a8b3ccd"
      },
      "source": [
        "tupleX[-1]"
      ],
      "execution_count": 93,
      "outputs": [
        {
          "output_type": "execute_result",
          "data": {
            "text/plain": [
              "1.2"
            ]
          },
          "metadata": {
            "tags": []
          },
          "execution_count": 93
        }
      ]
    },
    {
      "cell_type": "code",
      "metadata": {
        "id": "vO6rxt6bnD70",
        "colab_type": "code",
        "colab": {
          "base_uri": "https://localhost:8080/",
          "height": 35
        },
        "outputId": "2b9880c6-dde2-40b1-9e53-b90fdbb6dbfa"
      },
      "source": [
        "tupleX[0][0]"
      ],
      "execution_count": 94,
      "outputs": [
        {
          "output_type": "execute_result",
          "data": {
            "text/plain": [
              "'d'"
            ]
          },
          "metadata": {
            "tags": []
          },
          "execution_count": 94
        }
      ]
    },
    {
      "cell_type": "code",
      "metadata": {
        "id": "idt9hQmGn1sF",
        "colab_type": "code",
        "colab": {
          "base_uri": "https://localhost:8080/",
          "height": 35
        },
        "outputId": "49409a2e-ddf1-4fc5-9eab-7567b4cbb399"
      },
      "source": [
        "tupleX[0][-1]"
      ],
      "execution_count": 95,
      "outputs": [
        {
          "output_type": "execute_result",
          "data": {
            "text/plain": [
              "'o'"
            ]
          },
          "metadata": {
            "tags": []
          },
          "execution_count": 95
        }
      ]
    },
    {
      "cell_type": "code",
      "metadata": {
        "id": "gP1M88Qzn4hV",
        "colab_type": "code",
        "colab": {
          "base_uri": "https://localhost:8080/",
          "height": 35
        },
        "outputId": "cb494338-e9b9-4398-f376-fa73c72f3995"
      },
      "source": [
        "tupleX[1]"
      ],
      "execution_count": 96,
      "outputs": [
        {
          "output_type": "execute_result",
          "data": {
            "text/plain": [
              "10"
            ]
          },
          "metadata": {
            "tags": []
          },
          "execution_count": 96
        }
      ]
    },
    {
      "cell_type": "code",
      "metadata": {
        "id": "MHXPAxUeonSO",
        "colab_type": "code",
        "colab": {
          "base_uri": "https://localhost:8080/",
          "height": 165
        },
        "outputId": "ce01c0ab-9232-4a95-bc97-af84a5b15cac"
      },
      "source": [
        "tupleX[1][0]"
      ],
      "execution_count": 97,
      "outputs": [
        {
          "output_type": "error",
          "ename": "TypeError",
          "evalue": "ignored",
          "traceback": [
            "\u001b[0;31m---------------------------------------------------------------------------\u001b[0m",
            "\u001b[0;31mTypeError\u001b[0m                                 Traceback (most recent call last)",
            "\u001b[0;32m<ipython-input-97-e4704020408b>\u001b[0m in \u001b[0;36m<module>\u001b[0;34m()\u001b[0m\n\u001b[0;32m----> 1\u001b[0;31m \u001b[0mtupleX\u001b[0m\u001b[0;34m[\u001b[0m\u001b[0;36m1\u001b[0m\u001b[0;34m]\u001b[0m\u001b[0;34m[\u001b[0m\u001b[0;36m0\u001b[0m\u001b[0;34m]\u001b[0m\u001b[0;34m\u001b[0m\u001b[0;34m\u001b[0m\u001b[0m\n\u001b[0m",
            "\u001b[0;31mTypeError\u001b[0m: 'int' object is not subscriptable"
          ]
        }
      ]
    },
    {
      "cell_type": "code",
      "metadata": {
        "id": "1iP1idZCop-v",
        "colab_type": "code",
        "colab": {
          "base_uri": "https://localhost:8080/",
          "height": 165
        },
        "outputId": "1fe9c286-cd06-48ed-fde3-c63a8b932e87"
      },
      "source": [
        "tupleX[2][0]"
      ],
      "execution_count": 98,
      "outputs": [
        {
          "output_type": "error",
          "ename": "TypeError",
          "evalue": "ignored",
          "traceback": [
            "\u001b[0;31m---------------------------------------------------------------------------\u001b[0m",
            "\u001b[0;31mTypeError\u001b[0m                                 Traceback (most recent call last)",
            "\u001b[0;32m<ipython-input-98-cbe725ae08eb>\u001b[0m in \u001b[0;36m<module>\u001b[0;34m()\u001b[0m\n\u001b[0;32m----> 1\u001b[0;31m \u001b[0mtupleX\u001b[0m\u001b[0;34m[\u001b[0m\u001b[0;36m2\u001b[0m\u001b[0;34m]\u001b[0m\u001b[0;34m[\u001b[0m\u001b[0;36m0\u001b[0m\u001b[0;34m]\u001b[0m\u001b[0;34m\u001b[0m\u001b[0;34m\u001b[0m\u001b[0m\n\u001b[0m",
            "\u001b[0;31mTypeError\u001b[0m: 'float' object is not subscriptable"
          ]
        }
      ]
    },
    {
      "cell_type": "code",
      "metadata": {
        "id": "8DNXtkXypG4y",
        "colab_type": "code",
        "colab": {
          "base_uri": "https://localhost:8080/",
          "height": 276
        },
        "outputId": "a2cb1794-a5df-4945-96fc-36b4b0b9a0ae"
      },
      "source": [
        "tuple_add"
      ],
      "execution_count": 99,
      "outputs": [
        {
          "output_type": "execute_result",
          "data": {
            "text/plain": [
              "('disco',\n",
              " 10,\n",
              " 1.2,\n",
              " 'disco',\n",
              " 10,\n",
              " 1.2,\n",
              " 'disco',\n",
              " 10,\n",
              " 1.2,\n",
              " 'R&B',\n",
              " 12,\n",
              " 1.5,\n",
              " 'R&B',\n",
              " 12,\n",
              " 1.5)"
            ]
          },
          "metadata": {
            "tags": []
          },
          "execution_count": 99
        }
      ]
    },
    {
      "cell_type": "code",
      "metadata": {
        "id": "Jww-samapNFp",
        "colab_type": "code",
        "colab": {
          "base_uri": "https://localhost:8080/",
          "height": 35
        },
        "outputId": "cb917f8a-a510-4a37-f7c6-6d0480a423e8"
      },
      "source": [
        "tuple_add[0][1]"
      ],
      "execution_count": 100,
      "outputs": [
        {
          "output_type": "execute_result",
          "data": {
            "text/plain": [
              "'i'"
            ]
          },
          "metadata": {
            "tags": []
          },
          "execution_count": 100
        }
      ]
    },
    {
      "cell_type": "code",
      "metadata": {
        "id": "E4fb6kG4pTGA",
        "colab_type": "code",
        "colab": {
          "base_uri": "https://localhost:8080/",
          "height": 165
        },
        "outputId": "4130589d-53f9-4998-ca8c-e04d15eafdde"
      },
      "source": [
        "tuple_add[1][1]"
      ],
      "execution_count": 101,
      "outputs": [
        {
          "output_type": "error",
          "ename": "TypeError",
          "evalue": "ignored",
          "traceback": [
            "\u001b[0;31m---------------------------------------------------------------------------\u001b[0m",
            "\u001b[0;31mTypeError\u001b[0m                                 Traceback (most recent call last)",
            "\u001b[0;32m<ipython-input-101-859dc497f165>\u001b[0m in \u001b[0;36m<module>\u001b[0;34m()\u001b[0m\n\u001b[0;32m----> 1\u001b[0;31m \u001b[0mtuple_add\u001b[0m\u001b[0;34m[\u001b[0m\u001b[0;36m1\u001b[0m\u001b[0;34m]\u001b[0m\u001b[0;34m[\u001b[0m\u001b[0;36m1\u001b[0m\u001b[0;34m]\u001b[0m\u001b[0;34m\u001b[0m\u001b[0;34m\u001b[0m\u001b[0m\n\u001b[0m",
            "\u001b[0;31mTypeError\u001b[0m: 'int' object is not subscriptable"
          ]
        }
      ]
    },
    {
      "cell_type": "code",
      "metadata": {
        "id": "xo_zat_Tpaqe",
        "colab_type": "code",
        "colab": {
          "base_uri": "https://localhost:8080/",
          "height": 35
        },
        "outputId": "c8e7a168-f5f6-4ffc-97ae-45ef152c4d2d"
      },
      "source": [
        "tuple_add[3][0]"
      ],
      "execution_count": 102,
      "outputs": [
        {
          "output_type": "execute_result",
          "data": {
            "text/plain": [
              "'d'"
            ]
          },
          "metadata": {
            "tags": []
          },
          "execution_count": 102
        }
      ]
    },
    {
      "cell_type": "code",
      "metadata": {
        "id": "Onf0w1ajpf0C",
        "colab_type": "code",
        "colab": {}
      },
      "source": [
        "#Your Assginemnt #2 - Apply what you have learnt from String section, do repeat the many operations you played in the section. \n",
        "#e.g., Stride, Slicing... functions\n"
      ],
      "execution_count": 0,
      "outputs": []
    },
    {
      "cell_type": "code",
      "metadata": {
        "id": "l3U43X79pwda",
        "colab_type": "code",
        "colab": {
          "base_uri": "https://localhost:8080/",
          "height": 35
        },
        "outputId": "f9711fcf-64d6-45ee-9eaf-7752a0d23f6c"
      },
      "source": [
        "tupleX.count(10)"
      ],
      "execution_count": 108,
      "outputs": [
        {
          "output_type": "execute_result",
          "data": {
            "text/plain": [
              "1"
            ]
          },
          "metadata": {
            "tags": []
          },
          "execution_count": 108
        }
      ]
    },
    {
      "cell_type": "code",
      "metadata": {
        "id": "MvcnVw47p1sM",
        "colab_type": "code",
        "colab": {}
      },
      "source": [
        "Ratings = (0, 9, 6, 5, 4, 1, 3, 5) # A tuple consisting of only integer\n"
      ],
      "execution_count": 0,
      "outputs": []
    },
    {
      "cell_type": "code",
      "metadata": {
        "id": "7a95P7GNqRJw",
        "colab_type": "code",
        "colab": {
          "base_uri": "https://localhost:8080/",
          "height": 35
        },
        "outputId": "b9899d94-3520-4bc4-be51-4a73a9b4187f"
      },
      "source": [
        "type(Ratings)"
      ],
      "execution_count": 110,
      "outputs": [
        {
          "output_type": "execute_result",
          "data": {
            "text/plain": [
              "tuple"
            ]
          },
          "metadata": {
            "tags": []
          },
          "execution_count": 110
        }
      ]
    },
    {
      "cell_type": "code",
      "metadata": {
        "id": "6vpuXMhjqSUv",
        "colab_type": "code",
        "colab": {
          "base_uri": "https://localhost:8080/",
          "height": 35
        },
        "outputId": "9e23f3b6-f347-47aa-ab25-9f97d162ac46"
      },
      "source": [
        "sorted(Ratings) # Frequent function you will use in your lifetime "
      ],
      "execution_count": 111,
      "outputs": [
        {
          "output_type": "execute_result",
          "data": {
            "text/plain": [
              "[0, 1, 3, 4, 5, 5, 6, 9]"
            ]
          },
          "metadata": {
            "tags": []
          },
          "execution_count": 111
        }
      ]
    },
    {
      "cell_type": "code",
      "metadata": {
        "id": "kf_4g4IPqZ5-",
        "colab_type": "code",
        "colab": {}
      },
      "source": [
        "#Nested Tuple...."
      ],
      "execution_count": 0,
      "outputs": []
    },
    {
      "cell_type": "code",
      "metadata": {
        "id": "BlZfHJ_Yq2E7",
        "colab_type": "code",
        "colab": {}
      },
      "source": [
        "Nest_T = (1,2, (\"Pop\", \"Rock\"), (3,4), (\"disco\", (1,2)))"
      ],
      "execution_count": 0,
      "outputs": []
    },
    {
      "cell_type": "code",
      "metadata": {
        "id": "T8KIKWWOrCJk",
        "colab_type": "code",
        "colab": {
          "base_uri": "https://localhost:8080/",
          "height": 35
        },
        "outputId": "906279e8-94ea-42a7-a55f-1dd6ce831e9b"
      },
      "source": [
        "Nest_T[4]"
      ],
      "execution_count": 117,
      "outputs": [
        {
          "output_type": "execute_result",
          "data": {
            "text/plain": [
              "('disco', (1, 2))"
            ]
          },
          "metadata": {
            "tags": []
          },
          "execution_count": 117
        }
      ]
    },
    {
      "cell_type": "code",
      "metadata": {
        "id": "XNkCiGuErHsP",
        "colab_type": "code",
        "colab": {
          "base_uri": "https://localhost:8080/",
          "height": 35
        },
        "outputId": "b5d71c92-326d-4a92-d48f-421965e4f8d1"
      },
      "source": [
        "Nest_T[2][1]"
      ],
      "execution_count": 119,
      "outputs": [
        {
          "output_type": "execute_result",
          "data": {
            "text/plain": [
              "'Rock'"
            ]
          },
          "metadata": {
            "tags": []
          },
          "execution_count": 119
        }
      ]
    },
    {
      "cell_type": "code",
      "metadata": {
        "id": "GrYj-8wKrlOK",
        "colab_type": "code",
        "colab": {
          "base_uri": "https://localhost:8080/",
          "height": 35
        },
        "outputId": "056ccc6d-d10b-4a29-f895-7d1c08878551"
      },
      "source": [
        "Nest_T[4][1]"
      ],
      "execution_count": 123,
      "outputs": [
        {
          "output_type": "execute_result",
          "data": {
            "text/plain": [
              "(1, 2)"
            ]
          },
          "metadata": {
            "tags": []
          },
          "execution_count": 123
        }
      ]
    },
    {
      "cell_type": "code",
      "metadata": {
        "id": "oKhleBd1rwGF",
        "colab_type": "code",
        "colab": {
          "base_uri": "https://localhost:8080/",
          "height": 35
        },
        "outputId": "69823594-a158-4d34-fcec-244b783c0791"
      },
      "source": [
        "Nest_T[4][1][0]"
      ],
      "execution_count": 124,
      "outputs": [
        {
          "output_type": "execute_result",
          "data": {
            "text/plain": [
              "1"
            ]
          },
          "metadata": {
            "tags": []
          },
          "execution_count": 124
        }
      ]
    },
    {
      "cell_type": "code",
      "metadata": {
        "id": "MMRTTgnDsAHc",
        "colab_type": "code",
        "colab": {
          "base_uri": "https://localhost:8080/",
          "height": 35
        },
        "outputId": "515bf646-84ca-46e7-cd80-2bda5b9a1998"
      },
      "source": [
        "Nest_T[2][1][0]"
      ],
      "execution_count": 126,
      "outputs": [
        {
          "output_type": "execute_result",
          "data": {
            "text/plain": [
              "'R'"
            ]
          },
          "metadata": {
            "tags": []
          },
          "execution_count": 126
        }
      ]
    },
    {
      "cell_type": "code",
      "metadata": {
        "id": "k6xu0wVOsLf_",
        "colab_type": "code",
        "colab": {}
      },
      "source": [
        "#Your Assignment #3 \n",
        "#Declare a Genre tuple as follows:\n",
        "\"0. Pop, 1. Rock, 2. Soul, 3. Hard Rock, 4. Soft rock, 5. R&B, 6. Progressive rock, 7. Disco\"\n",
        "#Play around to access each items to answer the quires such as \"What is the number of R&B\"\n",
        "# tuple_Genre.find(\"R&B\") --> of course I know that you haven't learnt how to make a function in Python, play your own trick to find \n",
        "# where such letter or strings will be displayed. \n",
        "\n",
        "# if you have a such question \"Is there any R&B in the tuple_Genre?\" what will you do? tuple_Genre[0],tuple_Genre[1], tuple_Genre[2], tuple_Genre[3], tuple_Genre[4], tuple_Genre[5], tuple_Genre[6], tuple_Genre[7]\n",
        "# end then the computer will search at each item to find if there is R&B, maybe you will trick using '&' symbol '&' maybe you can use this trick to find if the tupleGenre has such 'And' Symbol.. \n",
        "#\"[0][pop], [1][R&B], [2][Disco]\" <--Pseudo Code for a two-dimensional tuple...--> n-dimensional tuples (\"Tensor\" = \"n-dimensional vector\", \"n*m matrix\", Tensorflow - name of Google AI package) "
      ],
      "execution_count": 0,
      "outputs": []
    }
  ]
}