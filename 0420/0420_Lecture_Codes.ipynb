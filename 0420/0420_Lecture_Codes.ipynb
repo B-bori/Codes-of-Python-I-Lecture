{
  "nbformat": 4,
  "nbformat_minor": 0,
  "metadata": {
    "colab": {
      "name": "0420 Lecture_Codes.ipynb",
      "provenance": [],
      "collapsed_sections": []
    },
    "kernelspec": {
      "name": "python3",
      "display_name": "Python 3"
    }
  },
  "cells": [
    {
      "cell_type": "code",
      "metadata": {
        "id": "7oMJ8ASrJuMb",
        "colab_type": "code",
        "colab": {}
      },
      "source": [
        "# repetition\n",
        "# LOOP"
      ],
      "execution_count": 0,
      "outputs": []
    },
    {
      "cell_type": "markdown",
      "metadata": {
        "id": "o3Gr7xYgLHvo",
        "colab_type": "text"
      },
      "source": [
        "LOOP is one of the frequent use of your programming"
      ]
    },
    {
      "cell_type": "code",
      "metadata": {
        "id": "1dAEgrdKLG2g",
        "colab_type": "code",
        "colab": {}
      },
      "source": [
        "test = range(3)"
      ],
      "execution_count": 0,
      "outputs": []
    },
    {
      "cell_type": "code",
      "metadata": {
        "id": "IeckE2DILyuS",
        "colab_type": "code",
        "outputId": "09ed6abf-711b-4e8e-89b5-e183e3d9395f",
        "colab": {
          "base_uri": "https://localhost:8080/",
          "height": 35
        }
      },
      "source": [
        "type(test)"
      ],
      "execution_count": 0,
      "outputs": [
        {
          "output_type": "execute_result",
          "data": {
            "text/plain": [
              "range"
            ]
          },
          "metadata": {
            "tags": []
          },
          "execution_count": 4
        }
      ]
    },
    {
      "cell_type": "code",
      "metadata": {
        "id": "c_QaLFBqL2SW",
        "colab_type": "code",
        "outputId": "d282ee3e-4cdd-482a-b221-4651e22e281b",
        "colab": {
          "base_uri": "https://localhost:8080/",
          "height": 35
        }
      },
      "source": [
        "test"
      ],
      "execution_count": 0,
      "outputs": [
        {
          "output_type": "execute_result",
          "data": {
            "text/plain": [
              "range(0, 3)"
            ]
          },
          "metadata": {
            "tags": []
          },
          "execution_count": 5
        }
      ]
    },
    {
      "cell_type": "markdown",
      "metadata": {
        "id": "rj_dPZmGMAP3",
        "colab_type": "text"
      },
      "source": [
        "Starting at 0 to three times [0, 1, 2]"
      ]
    },
    {
      "cell_type": "markdown",
      "metadata": {
        "id": "8sVLqWWjMMH_",
        "colab_type": "text"
      },
      "source": [
        "# FOR LOOP"
      ]
    },
    {
      "cell_type": "code",
      "metadata": {
        "id": "PlHU2tY3L9Tf",
        "colab_type": "code",
        "outputId": "3ecb497d-a705-484b-9145-c8e338ee2d51",
        "colab": {
          "base_uri": "https://localhost:8080/",
          "height": 69
        }
      },
      "source": [
        "years = [1981, 1982, 1983]\n",
        "\n",
        "print(years[0]) #hot-coding \n",
        "print(years[1])\n",
        "print(years[2])"
      ],
      "execution_count": 0,
      "outputs": [
        {
          "output_type": "stream",
          "text": [
            "1981\n",
            "1982\n",
            "1983\n"
          ],
          "name": "stdout"
        }
      ]
    },
    {
      "cell_type": "code",
      "metadata": {
        "id": "vaTW4z1AMad2",
        "colab_type": "code",
        "outputId": "8d1d7ff6-f507-4bfb-a31d-43887853471c",
        "colab": {
          "base_uri": "https://localhost:8080/",
          "height": 69
        }
      },
      "source": [
        "for i in range(3): #use Loop (generalizable #1)\n",
        "  print(years[i])"
      ],
      "execution_count": 0,
      "outputs": [
        {
          "output_type": "stream",
          "text": [
            "1981\n",
            "1982\n",
            "1983\n"
          ],
          "name": "stdout"
        }
      ]
    },
    {
      "cell_type": "markdown",
      "metadata": {
        "id": "7pStLPNLM6ZJ",
        "colab_type": "text"
      },
      "source": [
        "i = 0 (compare this i is in range 3) --> print(years[0])\n",
        "i = 1 (compare this i is in range 3) --> print(years[1])\n",
        "i = 2 (compare this i is in range 3) --> print(years[2])"
      ]
    },
    {
      "cell_type": "code",
      "metadata": {
        "id": "glM4LcJJMncT",
        "colab_type": "code",
        "outputId": "d5a1e904-c057-48c2-d358-73f0be1719fc",
        "colab": {
          "base_uri": "https://localhost:8080/",
          "height": 35
        }
      },
      "source": [
        "n = len(years)\n",
        "n"
      ],
      "execution_count": 0,
      "outputs": [
        {
          "output_type": "execute_result",
          "data": {
            "text/plain": [
              "3"
            ]
          },
          "metadata": {
            "tags": []
          },
          "execution_count": 10
        }
      ]
    },
    {
      "cell_type": "code",
      "metadata": {
        "id": "yLDF9XT0NnHP",
        "colab_type": "code",
        "outputId": "c3197c15-b7ca-431f-a6ab-91d9c8b81025",
        "colab": {
          "base_uri": "https://localhost:8080/",
          "height": 69
        }
      },
      "source": [
        "for i in range(n): #use Loop (generalizable #2)\n",
        "  print(years[i])"
      ],
      "execution_count": 0,
      "outputs": [
        {
          "output_type": "stream",
          "text": [
            "1981\n",
            "1982\n",
            "1983\n"
          ],
          "name": "stdout"
        }
      ]
    },
    {
      "cell_type": "code",
      "metadata": {
        "id": "nmqjmvdIN0T6",
        "colab_type": "code",
        "outputId": "f7d84b60-c8d2-402a-c2dc-29cec2b59f18",
        "colab": {
          "base_uri": "https://localhost:8080/",
          "height": 104
        }
      },
      "source": [
        "years = [1981, 1982, 1983, 1984, 1985] #Many programmer use this \n",
        "n = len(years)\n",
        "for i in range(n):\n",
        "  print(years[i])\n"
      ],
      "execution_count": 0,
      "outputs": [
        {
          "output_type": "stream",
          "text": [
            "1981\n",
            "1982\n",
            "1983\n",
            "1984\n",
            "1985\n"
          ],
          "name": "stdout"
        }
      ]
    },
    {
      "cell_type": "code",
      "metadata": {
        "id": "8yKk2NBzOJt-",
        "colab_type": "code",
        "outputId": "c3290b5c-090c-468a-a982-a95701299bc9",
        "colab": {
          "base_uri": "https://localhost:8080/",
          "height": 207
        }
      },
      "source": [
        "for i in years: #A Unique point of Python..\n",
        "  print(i) #because this i now represent the (i-1)th item in the list \n",
        "  print(i)\n",
        "\n",
        "print(\"I am carried out only once\")"
      ],
      "execution_count": 0,
      "outputs": [
        {
          "output_type": "stream",
          "text": [
            "1981\n",
            "1981\n",
            "1982\n",
            "1982\n",
            "1983\n",
            "1983\n",
            "1984\n",
            "1984\n",
            "1985\n",
            "1985\n",
            "I am carried out only once\n"
          ],
          "name": "stdout"
        }
      ]
    },
    {
      "cell_type": "markdown",
      "metadata": {
        "id": "2JQO8YvgPET7",
        "colab_type": "text"
      },
      "source": [
        "A syntax of for loop\n",
        "\n",
        "for i in (condition): \n",
        "(tab)\n",
        "(tab)\n",
        "(tab)\n",
        "\n",
        "for is \"indentation sensitive\"\n",
        "\n",
        "if you want to block several codes, you need to hold the indentation\n",
        "\n",
        "\n"
      ]
    },
    {
      "cell_type": "code",
      "metadata": {
        "id": "KDwWzH2zOcVV",
        "colab_type": "code",
        "outputId": "0cae1b44-2fbc-486c-c5b4-1427f279f8ea",
        "colab": {
          "base_uri": "https://localhost:8080/",
          "height": 207
        }
      },
      "source": [
        "years = [1981, 1982, 1983, 1984, 1985]\n",
        "\n",
        "i_permanant_as_global = 0   \n",
        "\n",
        "for i in years: # i is a local variable that only work in the 'for' loop \n",
        "  print(\"The year to be printed: \", i)\n",
        "  i_permanant_as_global = i # this i is not integer i, instead it represents 1985 at the end \n",
        "\n",
        "for i in range(0, 5): # i resets to 0 because it is a local variable that only works in the For loop \n",
        "  years[i] = i * \"What the Heck!\"\n",
        "  print(years[i]+ \"The year added up with What the Hack\")\n",
        "  i_permanant_as_global = i+ i_permanant_as_global\n",
        "\n",
        "i_permanant_as_global"
      ],
      "execution_count": 0,
      "outputs": [
        {
          "output_type": "stream",
          "text": [
            "The year to be printed:  1981\n",
            "The year to be printed:  1982\n",
            "The year to be printed:  1983\n",
            "The year to be printed:  1984\n",
            "The year to be printed:  1985\n",
            "The year added up with What the Hack\n",
            "What the Heck!The year added up with What the Hack\n",
            "What the Heck!What the Heck!The year added up with What the Hack\n",
            "What the Heck!What the Heck!What the Heck!The year added up with What the Hack\n",
            "What the Heck!What the Heck!What the Heck!What the Heck!The year added up with What the Hack\n"
          ],
          "name": "stdout"
        },
        {
          "output_type": "execute_result",
          "data": {
            "text/plain": [
              "1995"
            ]
          },
          "metadata": {
            "tags": []
          },
          "execution_count": 19
        }
      ]
    },
    {
      "cell_type": "code",
      "metadata": {
        "id": "AgESOLRFQujw",
        "colab_type": "code",
        "outputId": "7adcebe6-d56b-4703-965c-649af6d36691",
        "colab": {
          "base_uri": "https://localhost:8080/",
          "height": 104
        }
      },
      "source": [
        "years = [1981, 1982, 1983, 1984, 1985]\n",
        "\n",
        "for i, years in enumerate(years):\n",
        "  print(i, years)"
      ],
      "execution_count": 0,
      "outputs": [
        {
          "output_type": "stream",
          "text": [
            "0 1981\n",
            "1 1982\n",
            "2 1983\n",
            "3 1984\n",
            "4 1985\n"
          ],
          "name": "stdout"
        }
      ]
    },
    {
      "cell_type": "code",
      "metadata": {
        "id": "eEDq9sgQSrTs",
        "colab_type": "code",
        "outputId": "b0b271ba-8637-449e-840f-3517a99589d6",
        "colab": {
          "base_uri": "https://localhost:8080/",
          "height": 183
        }
      },
      "source": [
        "for i, j in range(0,5):\n",
        "  print(i, years[j])"
      ],
      "execution_count": 0,
      "outputs": [
        {
          "output_type": "error",
          "ename": "TypeError",
          "evalue": "ignored",
          "traceback": [
            "\u001b[0;31m---------------------------------------------------------------------------\u001b[0m",
            "\u001b[0;31mTypeError\u001b[0m                                 Traceback (most recent call last)",
            "\u001b[0;32m<ipython-input-21-b2447d5045b0>\u001b[0m in \u001b[0;36m<module>\u001b[0;34m()\u001b[0m\n\u001b[0;32m----> 1\u001b[0;31m \u001b[0;32mfor\u001b[0m \u001b[0mi\u001b[0m\u001b[0;34m,\u001b[0m \u001b[0mj\u001b[0m \u001b[0;32min\u001b[0m \u001b[0mrange\u001b[0m\u001b[0;34m(\u001b[0m\u001b[0;36m0\u001b[0m\u001b[0;34m,\u001b[0m\u001b[0;36m5\u001b[0m\u001b[0;34m)\u001b[0m\u001b[0;34m:\u001b[0m\u001b[0;34m\u001b[0m\u001b[0;34m\u001b[0m\u001b[0m\n\u001b[0m\u001b[1;32m      2\u001b[0m   \u001b[0mprint\u001b[0m\u001b[0;34m(\u001b[0m\u001b[0mi\u001b[0m\u001b[0;34m,\u001b[0m \u001b[0myears\u001b[0m\u001b[0;34m[\u001b[0m\u001b[0mj\u001b[0m\u001b[0;34m]\u001b[0m\u001b[0;34m)\u001b[0m\u001b[0;34m\u001b[0m\u001b[0;34m\u001b[0m\u001b[0m\n",
            "\u001b[0;31mTypeError\u001b[0m: 'int' object is not iterable"
          ]
        }
      ]
    },
    {
      "cell_type": "markdown",
      "metadata": {
        "id": "ZRPanJmaTWvg",
        "colab_type": "text"
      },
      "source": [
        "Gradient Descent with For loop.. "
      ]
    },
    {
      "cell_type": "code",
      "metadata": {
        "id": "Xrz6_lpqTeKd",
        "colab_type": "code",
        "colab": {}
      },
      "source": [
        "x = 3\n",
        "\n",
        "for i in range(100):\n",
        "  y = x**2 +1 # optimal minimum is (x = 0, y =1)\n",
        "  y_prime = 2*x #I used the hot-coding \n",
        "\n",
        "  if(y_prime > 0):\n",
        "    x = x - 0.1 \n",
        "  else: \n",
        "    x = x + 0.1 \n",
        "  if (y < 1.1): \n",
        "    print(\"The Optimal Solution of X is \", x, \"and y is at X is \", y, \"and we found the solution\")\n",
        "  else: print (\"in\", i, \"th time we could not reach to the optimal\")"
      ],
      "execution_count": 0,
      "outputs": []
    },
    {
      "cell_type": "markdown",
      "metadata": {
        "id": "hoD_A9ergWab",
        "colab_type": "text"
      },
      "source": [
        "##Assignment 1 (Due date is this Wendesday 9:00am) \n",
        "\n",
        "Apply the Newton method to find the solutions from my codes above. \n",
        "\n",
        "Then, compare how many times you have saved the number of calculation. \n"
      ]
    },
    {
      "cell_type": "code",
      "metadata": {
        "id": "4FQXfSKHS3bc",
        "colab_type": "code",
        "colab": {}
      },
      "source": [
        "x = 3 \n",
        "y_difference = 0\n",
        "\n",
        "for i in range(100):\n",
        "  y = x**2 +1\n",
        "  y_prime = 2*x \n",
        "\n",
        "  if(y_prime >0):\n",
        "    x = x - 0.1\n",
        "    y_difference = y -(x**2+1)\n",
        "  else:\n",
        "    x = x + 0.1\n",
        "    y_difference = y - (x**2+1)\n",
        "  if (y_difference <0.00000001): #if there is not increment into a better direction, the calculation stops.  \n",
        "    print(\"The Optimal of X is: \", x, \"and y is: \", y, \"and we found that solution.\")"
      ],
      "execution_count": 0,
      "outputs": []
    },
    {
      "cell_type": "markdown",
      "metadata": {
        "id": "Fb60m3DrWaUm",
        "colab_type": "text"
      },
      "source": [
        "x = 3, y_difference = 0 \n",
        "\n",
        "[1st trial]\n",
        "y = 10\n",
        "y_prime = 6\n",
        "x = 2.9 \n",
        "y_difference = y - (x**2+1) = 10 - (2.9**2+1) = \n"
      ]
    },
    {
      "cell_type": "markdown",
      "metadata": {
        "id": "EDIkHqvLbb0N",
        "colab_type": "text"
      },
      "source": [
        "# WHILE Loop"
      ]
    },
    {
      "cell_type": "code",
      "metadata": {
        "id": "oBMFZNXCV-hM",
        "colab_type": "code",
        "outputId": "41249a70-5424-4754-b669-f9778637345a",
        "colab": {
          "base_uri": "https://localhost:8080/",
          "height": 173
        }
      },
      "source": [
        "years = [1981, 1982, 1983, 1984, 1985]\n",
        "\n",
        "j = 0 #Global variable \n",
        "year = 0 #Globa variable\n",
        "\n",
        "while(year != 2000):\n",
        "  year = years[j]\n",
        "  print(year)\n",
        "  j = j + 1\n",
        "  if(j == 4): break #one of the tricky parts using 'While' loop may face with an infinite looping... \n",
        "\n",
        "print(\"It took \", i , \"repretitions to get out of loop\") \n",
        "\n"
      ],
      "execution_count": 0,
      "outputs": [
        {
          "output_type": "stream",
          "text": [
            "0\n",
            "1981\n",
            "1\n",
            "1982\n",
            "2\n",
            "1983\n",
            "3\n",
            "1984\n",
            "It took  5 repretitions to get out of loop\n"
          ],
          "name": "stdout"
        }
      ]
    },
    {
      "cell_type": "code",
      "metadata": {
        "id": "OM7MO1azcATB",
        "colab_type": "code",
        "colab": {}
      },
      "source": [
        ""
      ],
      "execution_count": 0,
      "outputs": []
    }
  ]
}