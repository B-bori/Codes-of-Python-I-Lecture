{
  "nbformat": 4,
  "nbformat_minor": 0,
  "metadata": {
    "colab": {
      "name": "0417Practice&Assignment_List.ipynb",
      "provenance": [],
      "collapsed_sections": []
    },
    "kernelspec": {
      "name": "python3",
      "display_name": "Python 3"
    }
  },
  "cells": [
    {
      "cell_type": "code",
      "metadata": {
        "id": "RhEhoUMEaw2P",
        "colab_type": "code",
        "colab": {}
      },
      "source": [
        "Tuple1 = (\"Disco\", 'Disco', 10, -3.2) #Tuple use parenthesis ( )"
      ],
      "execution_count": 0,
      "outputs": []
    },
    {
      "cell_type": "code",
      "metadata": {
        "id": "r1wTUZAsemjL",
        "colab_type": "code",
        "colab": {
          "base_uri": "https://localhost:8080/",
          "height": 35
        },
        "outputId": "549b2c9d-1d9b-43a2-ca76-0b56a8a64933"
      },
      "source": [
        "Tuple1[0]"
      ],
      "execution_count": 6,
      "outputs": [
        {
          "output_type": "execute_result",
          "data": {
            "text/plain": [
              "'Disco'"
            ]
          },
          "metadata": {
            "tags": []
          },
          "execution_count": 6
        }
      ]
    },
    {
      "cell_type": "markdown",
      "metadata": {
        "id": "ng-tsvlme6fw",
        "colab_type": "text"
      },
      "source": [
        "Is it possible to change (mutable) in each item in the tuple?"
      ]
    },
    {
      "cell_type": "code",
      "metadata": {
        "id": "LD9vE70qepyQ",
        "colab_type": "code",
        "colab": {
          "base_uri": "https://localhost:8080/",
          "height": 165
        },
        "outputId": "3958fe78-51c3-44eb-8cb6-e2b65b73fca7"
      },
      "source": [
        "Tuple1[0] = \"R&B\" # symbole \"=\" is for assignment, not the equal sign "
      ],
      "execution_count": 7,
      "outputs": [
        {
          "output_type": "error",
          "ename": "TypeError",
          "evalue": "ignored",
          "traceback": [
            "\u001b[0;31m---------------------------------------------------------------------------\u001b[0m",
            "\u001b[0;31mTypeError\u001b[0m                                 Traceback (most recent call last)",
            "\u001b[0;32m<ipython-input-7-f72e639e6a0f>\u001b[0m in \u001b[0;36m<module>\u001b[0;34m()\u001b[0m\n\u001b[0;32m----> 1\u001b[0;31m \u001b[0mTuple1\u001b[0m\u001b[0;34m[\u001b[0m\u001b[0;36m0\u001b[0m\u001b[0;34m]\u001b[0m \u001b[0;34m=\u001b[0m \u001b[0;34m\"R&B\"\u001b[0m \u001b[0;31m# symbole \"=\" is for assignment, not the equal sign\u001b[0m\u001b[0;34m\u001b[0m\u001b[0;34m\u001b[0m\u001b[0m\n\u001b[0m",
            "\u001b[0;31mTypeError\u001b[0m: 'tuple' object does not support item assignment"
          ]
        }
      ]
    },
    {
      "cell_type": "markdown",
      "metadata": {
        "id": "lUm7rxh2ff5n",
        "colab_type": "text"
      },
      "source": [
        "Tuple (it can include strings, integers, floats, however, when it has been declared or initialized, we cannot change the value of the items in the tuple"
      ]
    },
    {
      "cell_type": "code",
      "metadata": {
        "id": "xNgafJcvfY8S",
        "colab_type": "code",
        "colab": {}
      },
      "source": [
        "# Now we need some data types that the change is allowed.. "
      ],
      "execution_count": 0,
      "outputs": []
    },
    {
      "cell_type": "code",
      "metadata": {
        "id": "JBwdSK10gCPT",
        "colab_type": "code",
        "colab": {}
      },
      "source": [
        "L = [\"Michael Jackson\", 10, -3.2] #for List, we need brackets 대괄호 "
      ],
      "execution_count": 0,
      "outputs": []
    },
    {
      "cell_type": "code",
      "metadata": {
        "id": "qGf-xi1BgWMr",
        "colab_type": "code",
        "colab": {
          "base_uri": "https://localhost:8080/",
          "height": 35
        },
        "outputId": "0b925db7-89b3-45f8-8c00-ce59397b6f5d"
      },
      "source": [
        "L"
      ],
      "execution_count": 9,
      "outputs": [
        {
          "output_type": "execute_result",
          "data": {
            "text/plain": [
              "['Michael Jackson', 10, -3.2]"
            ]
          },
          "metadata": {
            "tags": []
          },
          "execution_count": 9
        }
      ]
    },
    {
      "cell_type": "code",
      "metadata": {
        "id": "ou53VxrbgX6q",
        "colab_type": "code",
        "colab": {}
      },
      "source": [
        "L[0] = \"Janet Jackson\" # I want to replace Micheal JAckson to Janet JAckson"
      ],
      "execution_count": 0,
      "outputs": []
    },
    {
      "cell_type": "code",
      "metadata": {
        "id": "PexkpE3Mgnmi",
        "colab_type": "code",
        "colab": {
          "base_uri": "https://localhost:8080/",
          "height": 35
        },
        "outputId": "17225b99-ea37-44b8-8153-9b19d807d8fe"
      },
      "source": [
        "L"
      ],
      "execution_count": 11,
      "outputs": [
        {
          "output_type": "execute_result",
          "data": {
            "text/plain": [
              "['Janet Jackson', 10, -3.2]"
            ]
          },
          "metadata": {
            "tags": []
          },
          "execution_count": 11
        }
      ]
    },
    {
      "cell_type": "code",
      "metadata": {
        "id": "itZorH01gpC1",
        "colab_type": "code",
        "colab": {
          "base_uri": "https://localhost:8080/",
          "height": 35
        },
        "outputId": "40eee5b7-e522-435b-d66c-cf93583fa913"
      },
      "source": [
        "type(L)"
      ],
      "execution_count": 12,
      "outputs": [
        {
          "output_type": "execute_result",
          "data": {
            "text/plain": [
              "list"
            ]
          },
          "metadata": {
            "tags": []
          },
          "execution_count": 12
        }
      ]
    },
    {
      "cell_type": "code",
      "metadata": {
        "id": "jrimzGAcgs5q",
        "colab_type": "code",
        "colab": {
          "base_uri": "https://localhost:8080/",
          "height": 35
        },
        "outputId": "0146e10d-b93d-4fe8-f377-23a2b50361d5"
      },
      "source": [
        "type(Tuple1)"
      ],
      "execution_count": 13,
      "outputs": [
        {
          "output_type": "execute_result",
          "data": {
            "text/plain": [
              "tuple"
            ]
          },
          "metadata": {
            "tags": []
          },
          "execution_count": 13
        }
      ]
    },
    {
      "cell_type": "code",
      "metadata": {
        "id": "j6OyKArGgwUl",
        "colab_type": "code",
        "colab": {
          "base_uri": "https://localhost:8080/",
          "height": 35
        },
        "outputId": "1e393cd9-96fa-43a7-b366-228cb4c1e0d0"
      },
      "source": [
        "L[0:2]"
      ],
      "execution_count": 21,
      "outputs": [
        {
          "output_type": "execute_result",
          "data": {
            "text/plain": [
              "['Janet Jackson', 10]"
            ]
          },
          "metadata": {
            "tags": []
          },
          "execution_count": 21
        }
      ]
    },
    {
      "cell_type": "code",
      "metadata": {
        "id": "_rVbCYJ9h8Qu",
        "colab_type": "code",
        "colab": {
          "base_uri": "https://localhost:8080/",
          "height": 35
        },
        "outputId": "6ddbd7d5-a66e-45d0-db8e-e90ea2a63280"
      },
      "source": [
        "L[0][0]"
      ],
      "execution_count": 22,
      "outputs": [
        {
          "output_type": "execute_result",
          "data": {
            "text/plain": [
              "'J'"
            ]
          },
          "metadata": {
            "tags": []
          },
          "execution_count": 22
        }
      ]
    },
    {
      "cell_type": "code",
      "metadata": {
        "id": "bZwsiorniZDR",
        "colab_type": "code",
        "colab": {
          "base_uri": "https://localhost:8080/",
          "height": 587
        },
        "outputId": "9afdd763-7481-4ea8-955e-4f3fd027b642"
      },
      "source": [
        "dir(Tuple1) #dir is predefine function by Python, which returns all the methods that can be applicable. "
      ],
      "execution_count": 23,
      "outputs": [
        {
          "output_type": "execute_result",
          "data": {
            "text/plain": [
              "['__add__',\n",
              " '__class__',\n",
              " '__contains__',\n",
              " '__delattr__',\n",
              " '__dir__',\n",
              " '__doc__',\n",
              " '__eq__',\n",
              " '__format__',\n",
              " '__ge__',\n",
              " '__getattribute__',\n",
              " '__getitem__',\n",
              " '__getnewargs__',\n",
              " '__gt__',\n",
              " '__hash__',\n",
              " '__init__',\n",
              " '__init_subclass__',\n",
              " '__iter__',\n",
              " '__le__',\n",
              " '__len__',\n",
              " '__lt__',\n",
              " '__mul__',\n",
              " '__ne__',\n",
              " '__new__',\n",
              " '__reduce__',\n",
              " '__reduce_ex__',\n",
              " '__repr__',\n",
              " '__rmul__',\n",
              " '__setattr__',\n",
              " '__sizeof__',\n",
              " '__str__',\n",
              " '__subclasshook__',\n",
              " 'count',\n",
              " 'index']"
            ]
          },
          "metadata": {
            "tags": []
          },
          "execution_count": 23
        }
      ]
    },
    {
      "cell_type": "code",
      "metadata": {
        "id": "d-b0uRNUitX_",
        "colab_type": "code",
        "colab": {
          "base_uri": "https://localhost:8080/",
          "height": 35
        },
        "outputId": "c98ce93f-6d77-4075-ae69-e155b67ec8df"
      },
      "source": [
        "Tuple1.count('Disco') # the built-in function by Tuple, for example, count(paramter) returns if the tuple has the parameter inside. #1 means True, 0 mean False  "
      ],
      "execution_count": 38,
      "outputs": [
        {
          "output_type": "execute_result",
          "data": {
            "text/plain": [
              "2"
            ]
          },
          "metadata": {
            "tags": []
          },
          "execution_count": 38
        }
      ]
    },
    {
      "cell_type": "markdown",
      "metadata": {
        "id": "lacfzPbdkOM3",
        "colab_type": "text"
      },
      "source": [
        "When you study functions (methods), one of the important things to review by you is to identify what the function (methods) are returning. --> you need to see the defintion of the count function, for example. count() method returns count of how many times the paramter(obj) occurs in list or tuple.\n"
      ]
    },
    {
      "cell_type": "code",
      "metadata": {
        "id": "nEk_TiFIi45S",
        "colab_type": "code",
        "colab": {}
      },
      "source": [
        "L2 = [\"Michael Jackson\", 'Michael Jackson', 10, -3.2]"
      ],
      "execution_count": 0,
      "outputs": []
    },
    {
      "cell_type": "code",
      "metadata": {
        "id": "z9Q6Ija9lTiu",
        "colab_type": "code",
        "colab": {
          "base_uri": "https://localhost:8080/",
          "height": 812
        },
        "outputId": "3a7bc91a-8f7b-4924-c2b4-df5c1a7eb5a5"
      },
      "source": [
        "dir(L2)"
      ],
      "execution_count": 35,
      "outputs": [
        {
          "output_type": "execute_result",
          "data": {
            "text/plain": [
              "['__add__',\n",
              " '__class__',\n",
              " '__contains__',\n",
              " '__delattr__',\n",
              " '__delitem__',\n",
              " '__dir__',\n",
              " '__doc__',\n",
              " '__eq__',\n",
              " '__format__',\n",
              " '__ge__',\n",
              " '__getattribute__',\n",
              " '__getitem__',\n",
              " '__gt__',\n",
              " '__hash__',\n",
              " '__iadd__',\n",
              " '__imul__',\n",
              " '__init__',\n",
              " '__init_subclass__',\n",
              " '__iter__',\n",
              " '__le__',\n",
              " '__len__',\n",
              " '__lt__',\n",
              " '__mul__',\n",
              " '__ne__',\n",
              " '__new__',\n",
              " '__reduce__',\n",
              " '__reduce_ex__',\n",
              " '__repr__',\n",
              " '__reversed__',\n",
              " '__rmul__',\n",
              " '__setattr__',\n",
              " '__setitem__',\n",
              " '__sizeof__',\n",
              " '__str__',\n",
              " '__subclasshook__',\n",
              " 'append',\n",
              " 'clear',\n",
              " 'copy',\n",
              " 'count',\n",
              " 'extend',\n",
              " 'index',\n",
              " 'insert',\n",
              " 'pop',\n",
              " 'remove',\n",
              " 'reverse',\n",
              " 'sort']"
            ]
          },
          "metadata": {
            "tags": []
          },
          "execution_count": 35
        }
      ]
    },
    {
      "cell_type": "code",
      "metadata": {
        "id": "RIB9wk1zlYAw",
        "colab_type": "code",
        "colab": {
          "base_uri": "https://localhost:8080/",
          "height": 35
        },
        "outputId": "ad46ccda-952e-43ca-9673-3faa00916f75"
      },
      "source": [
        "L2.count('Michael Jackson')"
      ],
      "execution_count": 36,
      "outputs": [
        {
          "output_type": "execute_result",
          "data": {
            "text/plain": [
              "2"
            ]
          },
          "metadata": {
            "tags": []
          },
          "execution_count": 36
        }
      ]
    },
    {
      "cell_type": "markdown",
      "metadata": {
        "id": "kL_6hjY-mGt3",
        "colab_type": "text"
      },
      "source": [
        "Even though Tuple and List has a certain difference in the fact that the former cannot be mutable, the other great difference is we have different types of built-in methods to be used by each data type. \n",
        "\n",
        "The number of built-in functions in List means List might be more useable that Tuple. \n",
        "\n"
      ]
    },
    {
      "cell_type": "code",
      "metadata": {
        "id": "UPnoo4Z-lewp",
        "colab_type": "code",
        "colab": {
          "base_uri": "https://localhost:8080/",
          "height": 35
        },
        "outputId": "b706f40e-4f81-4932-f384-813d53c68ae6"
      },
      "source": [
        "L2"
      ],
      "execution_count": 39,
      "outputs": [
        {
          "output_type": "execute_result",
          "data": {
            "text/plain": [
              "['Michael Jackson', 'Michael Jackson', 10, -3.2]"
            ]
          },
          "metadata": {
            "tags": []
          },
          "execution_count": 39
        }
      ]
    },
    {
      "cell_type": "code",
      "metadata": {
        "id": "lPFIzuiAmtMF",
        "colab_type": "code",
        "colab": {}
      },
      "source": [
        "L2.extend([\"Pop\", \"Black\", \"Passed away\", 100]) #extending the existing list with the parameter [\"Pop\", \"Black\", \"Paased away\", 100]. Intersting things happens at the end of the extension. We will come back to this point "
      ],
      "execution_count": 0,
      "outputs": []
    },
    {
      "cell_type": "code",
      "metadata": {
        "id": "VxeqrTdVm7X0",
        "colab_type": "code",
        "colab": {
          "base_uri": "https://localhost:8080/",
          "height": 225
        },
        "outputId": "9f1ce374-4937-42a9-ea24-b11c717ef027"
      },
      "source": [
        "L2"
      ],
      "execution_count": 51,
      "outputs": [
        {
          "output_type": "execute_result",
          "data": {
            "text/plain": [
              "['Michael Jackson',\n",
              " 'Michael Jackson',\n",
              " 10,\n",
              " -3.2,\n",
              " 'Pop',\n",
              " 'Black',\n",
              " 'Passed away',\n",
              " 100,\n",
              " 'Pop',\n",
              " 'Black',\n",
              " 'Passed away',\n",
              " 100]"
            ]
          },
          "metadata": {
            "tags": []
          },
          "execution_count": 51
        }
      ]
    },
    {
      "cell_type": "code",
      "metadata": {
        "id": "ZrTSpnJhnZcz",
        "colab_type": "code",
        "colab": {}
      },
      "source": [
        "L3 = [\"Michael Jackson\", 'Michael Jackson', 10, -3.2]"
      ],
      "execution_count": 0,
      "outputs": []
    },
    {
      "cell_type": "code",
      "metadata": {
        "id": "E3t6hN_doZ61",
        "colab_type": "code",
        "colab": {}
      },
      "source": [
        "L3.append([\"Pop\", \"Black\", \"Passed away\", 100])"
      ],
      "execution_count": 0,
      "outputs": []
    },
    {
      "cell_type": "code",
      "metadata": {
        "id": "dWzYvWo_okyL",
        "colab_type": "code",
        "colab": {
          "base_uri": "https://localhost:8080/",
          "height": 104
        },
        "outputId": "f0fc0e88-602f-437d-f9fe-8ff1dbf407cc"
      },
      "source": [
        "L3"
      ],
      "execution_count": 59,
      "outputs": [
        {
          "output_type": "execute_result",
          "data": {
            "text/plain": [
              "['Michael Jackson',\n",
              " 'Michael Jackson',\n",
              " 10,\n",
              " -3.2,\n",
              " ['Pop', 'Black', 'Passed away', 100]]"
            ]
          },
          "metadata": {
            "tags": []
          },
          "execution_count": 59
        }
      ]
    },
    {
      "cell_type": "code",
      "metadata": {
        "id": "rPFba5oPomGe",
        "colab_type": "code",
        "colab": {
          "base_uri": "https://localhost:8080/",
          "height": 35
        },
        "outputId": "4273d1f6-46a7-48c8-ff04-39354b504b1b"
      },
      "source": [
        "L3[4]"
      ],
      "execution_count": 65,
      "outputs": [
        {
          "output_type": "execute_result",
          "data": {
            "text/plain": [
              "['Pop', 'Black', 'Passed away', 100]"
            ]
          },
          "metadata": {
            "tags": []
          },
          "execution_count": 65
        }
      ]
    },
    {
      "cell_type": "markdown",
      "metadata": {
        "id": "Qv7Y7tfhpzJK",
        "colab_type": "text"
      },
      "source": [
        "Append function and Extend function behave differently.. Be careful!! when you use the indexing to access to a particular data"
      ]
    },
    {
      "cell_type": "code",
      "metadata": {
        "id": "Qq1Fph_xoovN",
        "colab_type": "code",
        "colab": {
          "base_uri": "https://localhost:8080/",
          "height": 104
        },
        "outputId": "a32ad133-f633-4c24-fa23-8defe0fe763e"
      },
      "source": [
        "L3"
      ],
      "execution_count": 66,
      "outputs": [
        {
          "output_type": "execute_result",
          "data": {
            "text/plain": [
              "['Michael Jackson',\n",
              " 'Michael Jackson',\n",
              " 10,\n",
              " -3.2,\n",
              " ['Pop', 'Black', 'Passed away', 100]]"
            ]
          },
          "metadata": {
            "tags": []
          },
          "execution_count": 66
        }
      ]
    },
    {
      "cell_type": "code",
      "metadata": {
        "id": "BiDQb1uwpvwb",
        "colab_type": "code",
        "colab": {
          "base_uri": "https://localhost:8080/",
          "height": 52
        },
        "outputId": "071e2ed0-4fb6-44b7-f23a-3648e28821a5"
      },
      "source": [
        "#Deletion is possible?\n",
        "\n",
        "print('Before Deleting:', L3)\n",
        "del(L3[4])\n",
        "print('After Deleting:', L3)"
      ],
      "execution_count": 68,
      "outputs": [
        {
          "output_type": "stream",
          "text": [
            "Before Deleting: ['Michael Jackson', 'Michael Jackson', 10, -3.2, ['Black', 'Passed away', 100]]\n",
            "After Deleting: ['Michael Jackson', 'Michael Jackson', 10, -3.2]\n"
          ],
          "name": "stdout"
        }
      ]
    },
    {
      "cell_type": "code",
      "metadata": {
        "id": "07JWBJBxqRBl",
        "colab_type": "code",
        "colab": {
          "base_uri": "https://localhost:8080/",
          "height": 35
        },
        "outputId": "ba424c88-f6a3-4bb2-a34c-ada457da9eac"
      },
      "source": [
        "L3"
      ],
      "execution_count": 69,
      "outputs": [
        {
          "output_type": "execute_result",
          "data": {
            "text/plain": [
              "['Michael Jackson', 'Michael Jackson', 10, -3.2]"
            ]
          },
          "metadata": {
            "tags": []
          },
          "execution_count": 69
        }
      ]
    },
    {
      "cell_type": "code",
      "metadata": {
        "id": "xflOZ5Skqd8i",
        "colab_type": "code",
        "colab": {}
      },
      "source": [
        "del(L3[0])"
      ],
      "execution_count": 0,
      "outputs": []
    },
    {
      "cell_type": "code",
      "metadata": {
        "id": "Mv_JZoNIq2dY",
        "colab_type": "code",
        "colab": {
          "base_uri": "https://localhost:8080/",
          "height": 35
        },
        "outputId": "414bc281-c60e-4f11-af10-d931d2758639"
      },
      "source": [
        "L3"
      ],
      "execution_count": 71,
      "outputs": [
        {
          "output_type": "execute_result",
          "data": {
            "text/plain": [
              "['Michael Jackson', 10, -3.2]"
            ]
          },
          "metadata": {
            "tags": []
          },
          "execution_count": 71
        }
      ]
    },
    {
      "cell_type": "code",
      "metadata": {
        "id": "1w-BIxgkq3Vh",
        "colab_type": "code",
        "colab": {}
      },
      "source": [
        "del(L3[0])"
      ],
      "execution_count": 0,
      "outputs": []
    },
    {
      "cell_type": "code",
      "metadata": {
        "id": "oVrBq9wYq8kC",
        "colab_type": "code",
        "colab": {
          "base_uri": "https://localhost:8080/",
          "height": 35
        },
        "outputId": "6d058cda-21cf-4884-8a30-cca31c879f71"
      },
      "source": [
        "L3"
      ],
      "execution_count": 73,
      "outputs": [
        {
          "output_type": "execute_result",
          "data": {
            "text/plain": [
              "[10, -3.2]"
            ]
          },
          "metadata": {
            "tags": []
          },
          "execution_count": 73
        }
      ]
    },
    {
      "cell_type": "code",
      "metadata": {
        "id": "1gImKWq7q-KP",
        "colab_type": "code",
        "colab": {}
      },
      "source": [
        "del(L3[0])"
      ],
      "execution_count": 0,
      "outputs": []
    },
    {
      "cell_type": "code",
      "metadata": {
        "id": "4MxnIkUWrEcs",
        "colab_type": "code",
        "colab": {
          "base_uri": "https://localhost:8080/",
          "height": 35
        },
        "outputId": "21039428-de95-4675-8a8a-464d8a5d3ab2"
      },
      "source": [
        "L3"
      ],
      "execution_count": 75,
      "outputs": [
        {
          "output_type": "execute_result",
          "data": {
            "text/plain": [
              "[-3.2]"
            ]
          },
          "metadata": {
            "tags": []
          },
          "execution_count": 75
        }
      ]
    },
    {
      "cell_type": "code",
      "metadata": {
        "id": "asPS_MexrFXR",
        "colab_type": "code",
        "colab": {
          "base_uri": "https://localhost:8080/",
          "height": 35
        },
        "outputId": "de894024-fb0e-44b8-982b-31892a587af2"
      },
      "source": [
        "del(L3[0])\n",
        "L3"
      ],
      "execution_count": 76,
      "outputs": [
        {
          "output_type": "execute_result",
          "data": {
            "text/plain": [
              "[]"
            ]
          },
          "metadata": {
            "tags": []
          },
          "execution_count": 76
        }
      ]
    },
    {
      "cell_type": "code",
      "metadata": {
        "id": "9AENgJeyrIfF",
        "colab_type": "code",
        "colab": {
          "base_uri": "https://localhost:8080/",
          "height": 165
        },
        "outputId": "6fbe716a-cc61-4eab-999a-6cd0e9b89e00"
      },
      "source": [
        "del(L3[0])"
      ],
      "execution_count": 77,
      "outputs": [
        {
          "output_type": "error",
          "ename": "IndexError",
          "evalue": "ignored",
          "traceback": [
            "\u001b[0;31m---------------------------------------------------------------------------\u001b[0m",
            "\u001b[0;31mIndexError\u001b[0m                                Traceback (most recent call last)",
            "\u001b[0;32m<ipython-input-77-fd3d0838090e>\u001b[0m in \u001b[0;36m<module>\u001b[0;34m()\u001b[0m\n\u001b[0;32m----> 1\u001b[0;31m \u001b[0;32mdel\u001b[0m\u001b[0;34m(\u001b[0m\u001b[0mL3\u001b[0m\u001b[0;34m[\u001b[0m\u001b[0;36m0\u001b[0m\u001b[0;34m]\u001b[0m\u001b[0;34m)\u001b[0m\u001b[0;34m\u001b[0m\u001b[0;34m\u001b[0m\u001b[0m\n\u001b[0m",
            "\u001b[0;31mIndexError\u001b[0m: list assignment index out of range"
          ]
        }
      ]
    },
    {
      "cell_type": "markdown",
      "metadata": {
        "id": "UsYj-kGKrTvw",
        "colab_type": "text"
      },
      "source": [
        "if you want to \"DIRECTLY\" modify the information of the list, use 'del' function. "
      ]
    },
    {
      "cell_type": "code",
      "metadata": {
        "id": "-oZGSWmRrLK-",
        "colab_type": "code",
        "colab": {}
      },
      "source": [
        "M1 = \"Hard Rock\""
      ],
      "execution_count": 0,
      "outputs": []
    },
    {
      "cell_type": "code",
      "metadata": {
        "id": "qOBakDzmrwUV",
        "colab_type": "code",
        "colab": {
          "base_uri": "https://localhost:8080/",
          "height": 35
        },
        "outputId": "a8ef7d4f-86ea-4e87-da5e-b1275b6343b3"
      },
      "source": [
        "type(M1)"
      ],
      "execution_count": 79,
      "outputs": [
        {
          "output_type": "execute_result",
          "data": {
            "text/plain": [
              "str"
            ]
          },
          "metadata": {
            "tags": []
          },
          "execution_count": 79
        }
      ]
    },
    {
      "cell_type": "code",
      "metadata": {
        "id": "LHQx20h4r5m9",
        "colab_type": "code",
        "colab": {
          "base_uri": "https://localhost:8080/",
          "height": 1000
        },
        "outputId": "b65202ca-7d58-4a70-81a6-e2431baf3710"
      },
      "source": [
        "dir(M1)"
      ],
      "execution_count": 81,
      "outputs": [
        {
          "output_type": "execute_result",
          "data": {
            "text/plain": [
              "['__add__',\n",
              " '__class__',\n",
              " '__contains__',\n",
              " '__delattr__',\n",
              " '__dir__',\n",
              " '__doc__',\n",
              " '__eq__',\n",
              " '__format__',\n",
              " '__ge__',\n",
              " '__getattribute__',\n",
              " '__getitem__',\n",
              " '__getnewargs__',\n",
              " '__gt__',\n",
              " '__hash__',\n",
              " '__init__',\n",
              " '__init_subclass__',\n",
              " '__iter__',\n",
              " '__le__',\n",
              " '__len__',\n",
              " '__lt__',\n",
              " '__mod__',\n",
              " '__mul__',\n",
              " '__ne__',\n",
              " '__new__',\n",
              " '__reduce__',\n",
              " '__reduce_ex__',\n",
              " '__repr__',\n",
              " '__rmod__',\n",
              " '__rmul__',\n",
              " '__setattr__',\n",
              " '__sizeof__',\n",
              " '__str__',\n",
              " '__subclasshook__',\n",
              " 'capitalize',\n",
              " 'casefold',\n",
              " 'center',\n",
              " 'count',\n",
              " 'encode',\n",
              " 'endswith',\n",
              " 'expandtabs',\n",
              " 'find',\n",
              " 'format',\n",
              " 'format_map',\n",
              " 'index',\n",
              " 'isalnum',\n",
              " 'isalpha',\n",
              " 'isdecimal',\n",
              " 'isdigit',\n",
              " 'isidentifier',\n",
              " 'islower',\n",
              " 'isnumeric',\n",
              " 'isprintable',\n",
              " 'isspace',\n",
              " 'istitle',\n",
              " 'isupper',\n",
              " 'join',\n",
              " 'ljust',\n",
              " 'lower',\n",
              " 'lstrip',\n",
              " 'maketrans',\n",
              " 'partition',\n",
              " 'replace',\n",
              " 'rfind',\n",
              " 'rindex',\n",
              " 'rjust',\n",
              " 'rpartition',\n",
              " 'rsplit',\n",
              " 'rstrip',\n",
              " 'split',\n",
              " 'splitlines',\n",
              " 'startswith',\n",
              " 'strip',\n",
              " 'swapcase',\n",
              " 'title',\n",
              " 'translate',\n",
              " 'upper',\n",
              " 'zfill']"
            ]
          },
          "metadata": {
            "tags": []
          },
          "execution_count": 81
        }
      ]
    },
    {
      "cell_type": "code",
      "metadata": {
        "id": "W3aO49L9sBLL",
        "colab_type": "code",
        "colab": {}
      },
      "source": [
        "whatisthis = M1.split()"
      ],
      "execution_count": 0,
      "outputs": []
    },
    {
      "cell_type": "markdown",
      "metadata": {
        "id": "bjIy4tlWsa_r",
        "colab_type": "text"
      },
      "source": [
        "M1 is string. and then call the builtin function \"split(), it returns List with a separation in betwen 'blank space'. "
      ]
    },
    {
      "cell_type": "code",
      "metadata": {
        "id": "-m5IKFcksNoC",
        "colab_type": "code",
        "colab": {
          "base_uri": "https://localhost:8080/",
          "height": 35
        },
        "outputId": "e0613fc8-13c6-4229-ec2f-d35ed11d3586"
      },
      "source": [
        "whatisthis"
      ],
      "execution_count": 89,
      "outputs": [
        {
          "output_type": "execute_result",
          "data": {
            "text/plain": [
              "['Hard', 'Rock']"
            ]
          },
          "metadata": {
            "tags": []
          },
          "execution_count": 89
        }
      ]
    },
    {
      "cell_type": "code",
      "metadata": {
        "id": "G-jHQNzZsPyM",
        "colab_type": "code",
        "colab": {
          "base_uri": "https://localhost:8080/",
          "height": 35
        },
        "outputId": "c5a0b6fe-c11b-440d-ff4e-f92ea673c681"
      },
      "source": [
        "type(whatisthis)"
      ],
      "execution_count": 90,
      "outputs": [
        {
          "output_type": "execute_result",
          "data": {
            "text/plain": [
              "list"
            ]
          },
          "metadata": {
            "tags": []
          },
          "execution_count": 90
        }
      ]
    },
    {
      "cell_type": "code",
      "metadata": {
        "id": "r1rAq25EsYcK",
        "colab_type": "code",
        "colab": {}
      },
      "source": [
        ""
      ],
      "execution_count": 0,
      "outputs": []
    },
    {
      "cell_type": "markdown",
      "metadata": {
        "id": "ZjivFYDjwpIZ",
        "colab_type": "text"
      },
      "source": [
        "A Big Concept in Programming discipline\n",
        "\n"
      ]
    },
    {
      "cell_type": "markdown",
      "metadata": {
        "id": "Z53xKJSyw1VS",
        "colab_type": "text"
      },
      "source": [
        "References....\n"
      ]
    },
    {
      "cell_type": "code",
      "metadata": {
        "id": "FATxODzEw59X",
        "colab_type": "code",
        "colab": {}
      },
      "source": [
        "A = [\"Hard Rock\", 10, 1.2] #This occupies a memory in your system. "
      ],
      "execution_count": 0,
      "outputs": []
    },
    {
      "cell_type": "code",
      "metadata": {
        "id": "eG9SVMZRw-YB",
        "colab_type": "code",
        "colab": {
          "base_uri": "https://localhost:8080/",
          "height": 35
        },
        "outputId": "1121fdc3-3add-4c2a-94ce-c7a7b0cf2086"
      },
      "source": [
        "A"
      ],
      "execution_count": 92,
      "outputs": [
        {
          "output_type": "execute_result",
          "data": {
            "text/plain": [
              "['Hard Rock', 10, 1.2]"
            ]
          },
          "metadata": {
            "tags": []
          },
          "execution_count": 92
        }
      ]
    },
    {
      "cell_type": "code",
      "metadata": {
        "id": "p6LjvUZMw_Vr",
        "colab_type": "code",
        "colab": {}
      },
      "source": [
        "B = A # Assignment A to B. #this one does not take up the same size of the memory 'A', because B is only containing the address of 'A'"
      ],
      "execution_count": 0,
      "outputs": []
    },
    {
      "cell_type": "code",
      "metadata": {
        "id": "MmcbXff-xGlK",
        "colab_type": "code",
        "colab": {
          "base_uri": "https://localhost:8080/",
          "height": 35
        },
        "outputId": "b1a11626-2a36-4bb7-cdb5-076e816164da"
      },
      "source": [
        "B"
      ],
      "execution_count": 94,
      "outputs": [
        {
          "output_type": "execute_result",
          "data": {
            "text/plain": [
              "['Hard Rock', 10, 1.2]"
            ]
          },
          "metadata": {
            "tags": []
          },
          "execution_count": 94
        }
      ]
    },
    {
      "cell_type": "code",
      "metadata": {
        "id": "WvjKNPsuxHVk",
        "colab_type": "code",
        "colab": {}
      },
      "source": [
        "A[0] = \"Hard Soft\""
      ],
      "execution_count": 0,
      "outputs": []
    },
    {
      "cell_type": "code",
      "metadata": {
        "id": "2cPzbs_DxO1H",
        "colab_type": "code",
        "colab": {
          "base_uri": "https://localhost:8080/",
          "height": 35
        },
        "outputId": "97823535-d97c-469c-ba28-ab48ccfe5fff"
      },
      "source": [
        "A"
      ],
      "execution_count": 96,
      "outputs": [
        {
          "output_type": "execute_result",
          "data": {
            "text/plain": [
              "['Hard Soft', 10, 1.2]"
            ]
          },
          "metadata": {
            "tags": []
          },
          "execution_count": 96
        }
      ]
    },
    {
      "cell_type": "code",
      "metadata": {
        "id": "vYZrPmy-xQAB",
        "colab_type": "code",
        "colab": {
          "base_uri": "https://localhost:8080/",
          "height": 35
        },
        "outputId": "0f859012-e90b-4f19-85de-fc9fb6bb5bef"
      },
      "source": [
        "B"
      ],
      "execution_count": 97,
      "outputs": [
        {
          "output_type": "execute_result",
          "data": {
            "text/plain": [
              "['Hard Soft', 10, 1.2]"
            ]
          },
          "metadata": {
            "tags": []
          },
          "execution_count": 97
        }
      ]
    },
    {
      "cell_type": "code",
      "metadata": {
        "id": "lwzPzVExxSRd",
        "colab_type": "code",
        "colab": {}
      },
      "source": [
        "A[1] = 20"
      ],
      "execution_count": 0,
      "outputs": []
    },
    {
      "cell_type": "code",
      "metadata": {
        "id": "p5FdGR-wznIk",
        "colab_type": "code",
        "colab": {
          "base_uri": "https://localhost:8080/",
          "height": 35
        },
        "outputId": "9040f03f-ffc9-434b-f39b-d442654a6091"
      },
      "source": [
        "B"
      ],
      "execution_count": 99,
      "outputs": [
        {
          "output_type": "execute_result",
          "data": {
            "text/plain": [
              "['Hard Soft', 20, 1.2]"
            ]
          },
          "metadata": {
            "tags": []
          },
          "execution_count": 99
        }
      ]
    },
    {
      "cell_type": "code",
      "metadata": {
        "id": "z9i4jEH3zn11",
        "colab_type": "code",
        "colab": {}
      },
      "source": [
        "B[0] = \"Hard Rock\""
      ],
      "execution_count": 0,
      "outputs": []
    },
    {
      "cell_type": "code",
      "metadata": {
        "id": "haCfPMTW06VN",
        "colab_type": "code",
        "colab": {
          "base_uri": "https://localhost:8080/",
          "height": 35
        },
        "outputId": "3b6213fb-7dc7-403d-f0e9-3d86b3b0bbde"
      },
      "source": [
        "A"
      ],
      "execution_count": 101,
      "outputs": [
        {
          "output_type": "execute_result",
          "data": {
            "text/plain": [
              "['Hard Rock', 20, 1.2]"
            ]
          },
          "metadata": {
            "tags": []
          },
          "execution_count": 101
        }
      ]
    },
    {
      "cell_type": "markdown",
      "metadata": {
        "id": "-TV20l1I1Q4l",
        "colab_type": "text"
      },
      "source": [
        "IF you want to make an actual copying, use the fowlloing syntax"
      ]
    },
    {
      "cell_type": "code",
      "metadata": {
        "id": "CXF9kMDR07Jg",
        "colab_type": "code",
        "colab": {}
      },
      "source": [
        "B = A[:] #This is actual copying = \"CLONING\" Clone. "
      ],
      "execution_count": 0,
      "outputs": []
    },
    {
      "cell_type": "code",
      "metadata": {
        "id": "rub82CAH1FHx",
        "colab_type": "code",
        "colab": {
          "base_uri": "https://localhost:8080/",
          "height": 35
        },
        "outputId": "7e3fac91-3d0a-4bf3-cf88-606a1e0a073d"
      },
      "source": [
        "B"
      ],
      "execution_count": 103,
      "outputs": [
        {
          "output_type": "execute_result",
          "data": {
            "text/plain": [
              "['Hard Rock', 20, 1.2]"
            ]
          },
          "metadata": {
            "tags": []
          },
          "execution_count": 103
        }
      ]
    },
    {
      "cell_type": "code",
      "metadata": {
        "id": "wGZX_CPh1GNi",
        "colab_type": "code",
        "colab": {}
      },
      "source": [
        "A[0] = 'Hard Soft'\n",
        "B[1] = 50000"
      ],
      "execution_count": 0,
      "outputs": []
    },
    {
      "cell_type": "code",
      "metadata": {
        "id": "qZv2xhl91JYd",
        "colab_type": "code",
        "colab": {
          "base_uri": "https://localhost:8080/",
          "height": 52
        },
        "outputId": "55ce3d68-9187-4c80-8625-0c62782e698e"
      },
      "source": [
        "print(A)\n",
        "print(B)"
      ],
      "execution_count": 107,
      "outputs": [
        {
          "output_type": "stream",
          "text": [
            "['Hard Soft', 20, 1.2]\n",
            "['Hard Rock', 50000, 1.2]\n"
          ],
          "name": "stdout"
        }
      ]
    },
    {
      "cell_type": "code",
      "metadata": {
        "id": "wcldItHP1OCS",
        "colab_type": "code",
        "colab": {}
      },
      "source": [
        ""
      ],
      "execution_count": 0,
      "outputs": []
    },
    {
      "cell_type": "markdown",
      "metadata": {
        "id": "UgX4aMV-2BFW",
        "colab_type": "text"
      },
      "source": [
        ""
      ]
    },
    {
      "cell_type": "markdown",
      "metadata": {
        "id": "9624RJCD12ag",
        "colab_type": "text"
      },
      "source": [
        "# ASSIGNMENT#1"
      ]
    },
    {
      "cell_type": "markdown",
      "metadata": {
        "id": "55ZAfU1M2CPk",
        "colab_type": "text"
      },
      "source": [
        "1. Create a list a_list, with the following elements 1, hello, [1,2,3] and True (i.e., Boolean)."
      ]
    },
    {
      "cell_type": "markdown",
      "metadata": {
        "id": "i8DNlmOY2Hng",
        "colab_type": "text"
      },
      "source": [
        "2. Find the value stored at index 1 of a_list."
      ]
    },
    {
      "cell_type": "markdown",
      "metadata": {
        "id": "ZiiBdwZN2UID",
        "colab_type": "text"
      },
      "source": [
        "3. Retrieve the elements stored at index 1, 2 and 3 of a_list."
      ]
    },
    {
      "cell_type": "markdown",
      "metadata": {
        "id": "leSank5t2ZAf",
        "colab_type": "text"
      },
      "source": [
        "4. Concatenate the following lists A = [1, 'a'] and B = [2, 1, 'd']:"
      ]
    },
    {
      "cell_type": "code",
      "metadata": {
        "id": "CNblIxST2d5y",
        "colab_type": "code",
        "colab": {}
      },
      "source": [
        ""
      ],
      "execution_count": 0,
      "outputs": []
    },
    {
      "cell_type": "markdown",
      "metadata": {
        "id": "T_bTTj1S2eV3",
        "colab_type": "text"
      },
      "source": [
        ""
      ]
    }
  ]
}