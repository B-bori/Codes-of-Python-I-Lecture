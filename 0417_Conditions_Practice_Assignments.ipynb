{
  "nbformat": 4,
  "nbformat_minor": 0,
  "metadata": {
    "colab": {
      "name": "0417_Conditions_Practice_Assignments.ipynb",
      "provenance": [],
      "collapsed_sections": []
    },
    "kernelspec": {
      "name": "python3",
      "display_name": "Python 3"
    }
  },
  "cells": [
    {
      "cell_type": "code",
      "metadata": {
        "id": "JSWI31rKOOjG",
        "colab_type": "code",
        "colab": {}
      },
      "source": [
        ""
      ],
      "execution_count": 0,
      "outputs": []
    },
    {
      "cell_type": "markdown",
      "metadata": {
        "id": "KprjJP1jOWVC",
        "colab_type": "text"
      },
      "source": [
        "Conditions "
      ]
    },
    {
      "cell_type": "markdown",
      "metadata": {
        "id": "aT4ovGWcPZ8J",
        "colab_type": "text"
      },
      "source": [
        " == : Equal (do not confuse with = assignment symbol)\n",
        "  '>' : bigger than\n",
        "\n",
        " < : smaller than\n",
        "\n",
        " '>=' : bigger than or equal to \n",
        " \n",
        " <=: smaller than or equal to\n",
        "\n",
        " != : Not Equal\n",
        " "
      ]
    },
    {
      "cell_type": "code",
      "metadata": {
        "id": "pLIriWZbOgf9",
        "colab_type": "code",
        "colab": {}
      },
      "source": [
        "a = 5 # assignment, so the vraible a has the value 5"
      ],
      "execution_count": 0,
      "outputs": []
    },
    {
      "cell_type": "code",
      "metadata": {
        "id": "utON17JdP6Xb",
        "colab_type": "code",
        "colab": {
          "base_uri": "https://localhost:8080/",
          "height": 35
        },
        "outputId": "0fd6b6e2-c59d-41ad-e78f-bafc59a0e2dc"
      },
      "source": [
        "a"
      ],
      "execution_count": 2,
      "outputs": [
        {
          "output_type": "execute_result",
          "data": {
            "text/plain": [
              "5"
            ]
          },
          "metadata": {
            "tags": []
          },
          "execution_count": 2
        }
      ]
    },
    {
      "cell_type": "code",
      "metadata": {
        "id": "9h-Czy7BP8tE",
        "colab_type": "code",
        "colab": {
          "base_uri": "https://localhost:8080/",
          "height": 35
        },
        "outputId": "4e642d76-78f2-49d0-b743-f27c1f49fd7b"
      },
      "source": [
        "a == 5 "
      ],
      "execution_count": 3,
      "outputs": [
        {
          "output_type": "execute_result",
          "data": {
            "text/plain": [
              "True"
            ]
          },
          "metadata": {
            "tags": []
          },
          "execution_count": 3
        }
      ]
    },
    {
      "cell_type": "code",
      "metadata": {
        "id": "mOaHSHGWP-V4",
        "colab_type": "code",
        "colab": {
          "base_uri": "https://localhost:8080/",
          "height": 35
        },
        "outputId": "d6bee9a1-c4a6-4c34-bff7-8f34a27cdea5"
      },
      "source": [
        "i = 6\n",
        "i >= 5"
      ],
      "execution_count": 4,
      "outputs": [
        {
          "output_type": "execute_result",
          "data": {
            "text/plain": [
              "True"
            ]
          },
          "metadata": {
            "tags": []
          },
          "execution_count": 4
        }
      ]
    },
    {
      "cell_type": "code",
      "metadata": {
        "id": "L1MWVHHaQGtp",
        "colab_type": "code",
        "colab": {
          "base_uri": "https://localhost:8080/",
          "height": 35
        },
        "outputId": "1c4aabd4-db84-4a7c-d1fd-918efd35bec1"
      },
      "source": [
        "i <= 4"
      ],
      "execution_count": 5,
      "outputs": [
        {
          "output_type": "execute_result",
          "data": {
            "text/plain": [
              "False"
            ]
          },
          "metadata": {
            "tags": []
          },
          "execution_count": 5
        }
      ]
    },
    {
      "cell_type": "code",
      "metadata": {
        "id": "s9I9BOA7QIgd",
        "colab_type": "code",
        "colab": {
          "base_uri": "https://localhost:8080/",
          "height": 35
        },
        "outputId": "b85d4810-a889-4d87-d8d9-8aa5328d58c1"
      },
      "source": [
        "i != 6"
      ],
      "execution_count": 6,
      "outputs": [
        {
          "output_type": "execute_result",
          "data": {
            "text/plain": [
              "False"
            ]
          },
          "metadata": {
            "tags": []
          },
          "execution_count": 6
        }
      ]
    },
    {
      "cell_type": "code",
      "metadata": {
        "id": "uksaVSttQPk_",
        "colab_type": "code",
        "colab": {}
      },
      "source": [
        "Str1 = \"Michael\"\n",
        "Str2 = \"Janet\""
      ],
      "execution_count": 0,
      "outputs": []
    },
    {
      "cell_type": "code",
      "metadata": {
        "id": "LyTBIE1lQjw-",
        "colab_type": "code",
        "colab": {
          "base_uri": "https://localhost:8080/",
          "height": 35
        },
        "outputId": "a540afb2-e6d6-42b3-e1a3-5a677ae3529e"
      },
      "source": [
        "Str1 != Str2 "
      ],
      "execution_count": 9,
      "outputs": [
        {
          "output_type": "execute_result",
          "data": {
            "text/plain": [
              "True"
            ]
          },
          "metadata": {
            "tags": []
          },
          "execution_count": 9
        }
      ]
    },
    {
      "cell_type": "code",
      "metadata": {
        "id": "HAiNhWzGQoia",
        "colab_type": "code",
        "colab": {
          "base_uri": "https://localhost:8080/",
          "height": 35
        },
        "outputId": "ccc0ff5a-18ef-425b-841d-c756ced53469"
      },
      "source": [
        "Str1 >= Str2 #this is not being used in your life time coding experience... "
      ],
      "execution_count": 18,
      "outputs": [
        {
          "output_type": "execute_result",
          "data": {
            "text/plain": [
              "True"
            ]
          },
          "metadata": {
            "tags": []
          },
          "execution_count": 18
        }
      ]
    },
    {
      "cell_type": "code",
      "metadata": {
        "id": "5yMtj4RIQuUJ",
        "colab_type": "code",
        "colab": {
          "base_uri": "https://localhost:8080/",
          "height": 35
        },
        "outputId": "d91d6fa2-de99-4c22-bf68-a8d0baeebb5f"
      },
      "source": [
        "'A' > 'B' # signle letter string can be compared...."
      ],
      "execution_count": 11,
      "outputs": [
        {
          "output_type": "execute_result",
          "data": {
            "text/plain": [
              "False"
            ]
          },
          "metadata": {
            "tags": []
          },
          "execution_count": 11
        }
      ]
    },
    {
      "cell_type": "markdown",
      "metadata": {
        "id": "xro_VaZxRANX",
        "colab_type": "text"
      },
      "source": [
        "ASCII CODE: Old computer design architecture says that we need to represent each number to each letter, out of 256"
      ]
    },
    {
      "cell_type": "code",
      "metadata": {
        "id": "erMEwAj5RIf6",
        "colab_type": "code",
        "colab": {
          "base_uri": "https://localhost:8080/",
          "height": 35
        },
        "outputId": "15439b0b-7b37-46e4-8d53-1ac74881a69e"
      },
      "source": [
        "ord('A')"
      ],
      "execution_count": 12,
      "outputs": [
        {
          "output_type": "execute_result",
          "data": {
            "text/plain": [
              "65"
            ]
          },
          "metadata": {
            "tags": []
          },
          "execution_count": 12
        }
      ]
    },
    {
      "cell_type": "code",
      "metadata": {
        "id": "x9n2SgiURMKM",
        "colab_type": "code",
        "colab": {
          "base_uri": "https://localhost:8080/",
          "height": 35
        },
        "outputId": "98aa4a68-547b-4956-be65-b090149cfa99"
      },
      "source": [
        "ord('B')"
      ],
      "execution_count": 13,
      "outputs": [
        {
          "output_type": "execute_result",
          "data": {
            "text/plain": [
              "66"
            ]
          },
          "metadata": {
            "tags": []
          },
          "execution_count": 13
        }
      ]
    },
    {
      "cell_type": "code",
      "metadata": {
        "id": "C7-fPIZdRSk6",
        "colab_type": "code",
        "colab": {
          "base_uri": "https://localhost:8080/",
          "height": 35
        },
        "outputId": "1cb524f2-4d44-440a-a4c8-20be77c006a8"
      },
      "source": [
        "'BA' > 'AB' # they just compare the first letter only --> this is not the way you will use this code in your life time. "
      ],
      "execution_count": 14,
      "outputs": [
        {
          "output_type": "execute_result",
          "data": {
            "text/plain": [
              "True"
            ]
          },
          "metadata": {
            "tags": []
          },
          "execution_count": 14
        }
      ]
    },
    {
      "cell_type": "code",
      "metadata": {
        "id": "Tg8smnciRdZE",
        "colab_type": "code",
        "colab": {}
      },
      "source": [
        ""
      ],
      "execution_count": 0,
      "outputs": []
    },
    {
      "cell_type": "markdown",
      "metadata": {
        "id": "jQ8EFqZWSMZw",
        "colab_type": "text"
      },
      "source": [
        "REAL BRANCHING = Logic to the following process to continue"
      ]
    },
    {
      "cell_type": "code",
      "metadata": {
        "id": "rBk6u5VNSOu5",
        "colab_type": "code",
        "colab": {
          "base_uri": "https://localhost:8080/",
          "height": 35
        },
        "outputId": "c4b9a9da-9f72-4029-ede1-ad03e9364785"
      },
      "source": [
        "age  = 18 \n",
        "\n",
        "if(age > 18):\n",
        "  print(\"You can enter\")\n",
        "  print(\"I will be printed\")\n",
        "elif(age==18):\n",
        "  print(\"I am bloddy 18!!!\")\n",
        "else: \n",
        "  print(\"YOU should be prohibited to enter!!!\")\n"
      ],
      "execution_count": 27,
      "outputs": [
        {
          "output_type": "stream",
          "text": [
            "I am bloddy 18!!!\n"
          ],
          "name": "stdout"
        }
      ]
    },
    {
      "cell_type": "markdown",
      "metadata": {
        "id": "5elJSiG5TpZ8",
        "colab_type": "text"
      },
      "source": [
        "BE CAREFUL OF INDENTATION\n",
        "Upto indented lines are considered as the scope of each conditoin"
      ]
    },
    {
      "cell_type": "code",
      "metadata": {
        "id": "kPp8JIHmTX1k",
        "colab_type": "code",
        "colab": {}
      },
      "source": [
        "Dict ={\"Artist\": \"Michael\", \"Genre\": \"R&B\", \"Sales\": 10000}\n"
      ],
      "execution_count": 0,
      "outputs": []
    },
    {
      "cell_type": "code",
      "metadata": {
        "id": "20hIiWU9VPwY",
        "colab_type": "code",
        "colab": {
          "base_uri": "https://localhost:8080/",
          "height": 35
        },
        "outputId": "2d38deb6-30ed-41aa-95f6-6a329b4e9cdc"
      },
      "source": [
        "if(Dict[\"Artist\"]):\n",
        "  print(Dict[\"Genre\"])\n",
        "else: \n",
        "  print(\"None\")"
      ],
      "execution_count": 33,
      "outputs": [
        {
          "output_type": "stream",
          "text": [
            "R&B\n"
          ],
          "name": "stdout"
        }
      ]
    },
    {
      "cell_type": "markdown",
      "metadata": {
        "id": "VYRUdEgOV0J7",
        "colab_type": "text"
      },
      "source": [
        "Assignemnt #4-1\n",
        "\n",
        "when the Artist name is 'Michael\", print our the genre of the artist "
      ]
    },
    {
      "cell_type": "code",
      "metadata": {
        "id": "L6VjHCLVVe_Q",
        "colab_type": "code",
        "colab": {}
      },
      "source": [
        ""
      ],
      "execution_count": 0,
      "outputs": []
    },
    {
      "cell_type": "markdown",
      "metadata": {
        "id": "ClVbHCA6WOjM",
        "colab_type": "text"
      },
      "source": [
        "Logical operators and / or  "
      ]
    },
    {
      "cell_type": "code",
      "metadata": {
        "id": "6dnDBZ2cWW3I",
        "colab_type": "code",
        "colab": {
          "base_uri": "https://localhost:8080/",
          "height": 35
        },
        "outputId": "4a3aed9b-50ce-4353-87c7-fe0a3df30d97"
      },
      "source": [
        "album_year = 2020\n",
        "\n",
        "if((album_year >= 2011) and (album_year< 2020)):\n",
        "  print(\"The album was released in between 2011 and 2019\")\n",
        "  if((album_year >=2012) and (album_year<2019)):\n",
        "    print(\"The album was relased in between 2012 and 2018\")\n",
        "else:\n",
        "  print(\"The album was not released in 2010s\")\n"
      ],
      "execution_count": 40,
      "outputs": [
        {
          "output_type": "stream",
          "text": [
            "The album was not released in 2010s\n"
          ],
          "name": "stdout"
        }
      ]
    },
    {
      "cell_type": "code",
      "metadata": {
        "id": "tWs-kTl4W3Ot",
        "colab_type": "code",
        "colab": {}
      },
      "source": [
        ""
      ],
      "execution_count": 0,
      "outputs": []
    },
    {
      "cell_type": "markdown",
      "metadata": {
        "id": "PGGP4qcmXWtx",
        "colab_type": "text"
      },
      "source": [
        "Assignment #4-2\n",
        "1. Write a Python program to convert temperatures to and from celsius, fahrenheit (Kevin temperature limitation is -273cencius, e.g., declare your value at -50000, 50000)\n",
        "\n",
        "2. Write a Python programme to count how many even numbers and odd number is a list (e.g., L = [1, 2, 3, 5, 9, 31, 28, 91])\n",
        "\n",
        "3. Write a Python program, extending the codes from Question 2 in Assignment #4-2, how many prime numbers (소수) are in the list [Note that if you solve this problem, you will win the Fields Medal (a kind of Nobel prize in Maths) \n",
        "\n",
        "Refer to the following link (https://en.wikipedia.org/wiki/Largest_known_prime_number) \n",
        "\n",
        "What I am trying to test in Question 3 is to nested conditions. \n"
      ]
    }
  ]
}